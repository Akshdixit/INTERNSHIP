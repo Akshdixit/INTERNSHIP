{
 "cells": [
  {
   "cell_type": "code",
   "execution_count": 191,
   "id": "e1582cd7",
   "metadata": {},
   "outputs": [
    {
     "name": "stdout",
     "output_type": "stream",
     "text": [
      "Requirement already satisfied: selenium in c:\\users\\ashud\\anaconda3\\lib\\site-packages (4.3.0)\n",
      "Requirement already satisfied: urllib3[secure,socks]~=1.26 in c:\\users\\ashud\\anaconda3\\lib\\site-packages (from selenium) (1.26.7)\n",
      "Requirement already satisfied: trio~=0.17 in c:\\users\\ashud\\anaconda3\\lib\\site-packages (from selenium) (0.21.0)\n",
      "Requirement already satisfied: trio-websocket~=0.9 in c:\\users\\ashud\\anaconda3\\lib\\site-packages (from selenium) (0.9.2)\n",
      "Requirement already satisfied: sortedcontainers in c:\\users\\ashud\\anaconda3\\lib\\site-packages (from trio~=0.17->selenium) (2.4.0)\n",
      "Requirement already satisfied: attrs>=19.2.0 in c:\\users\\ashud\\anaconda3\\lib\\site-packages (from trio~=0.17->selenium) (21.2.0)\n",
      "Requirement already satisfied: outcome in c:\\users\\ashud\\anaconda3\\lib\\site-packages (from trio~=0.17->selenium) (1.2.0)\n",
      "Requirement already satisfied: sniffio in c:\\users\\ashud\\anaconda3\\lib\\site-packages (from trio~=0.17->selenium) (1.2.0)\n",
      "Requirement already satisfied: async-generator>=1.9 in c:\\users\\ashud\\anaconda3\\lib\\site-packages (from trio~=0.17->selenium) (1.10)\n",
      "Requirement already satisfied: cffi>=1.14 in c:\\users\\ashud\\anaconda3\\lib\\site-packages (from trio~=0.17->selenium) (1.14.6)\n",
      "Requirement already satisfied: idna in c:\\users\\ashud\\anaconda3\\lib\\site-packages (from trio~=0.17->selenium) (3.2)\n",
      "Requirement already satisfied: pycparser in c:\\users\\ashud\\anaconda3\\lib\\site-packages (from cffi>=1.14->trio~=0.17->selenium) (2.20)\n",
      "Requirement already satisfied: wsproto>=0.14 in c:\\users\\ashud\\anaconda3\\lib\\site-packages (from trio-websocket~=0.9->selenium) (1.1.0)\n",
      "Requirement already satisfied: pyOpenSSL>=0.14 in c:\\users\\ashud\\anaconda3\\lib\\site-packages (from urllib3[secure,socks]~=1.26->selenium) (21.0.0)\n",
      "Requirement already satisfied: cryptography>=1.3.4 in c:\\users\\ashud\\anaconda3\\lib\\site-packages (from urllib3[secure,socks]~=1.26->selenium) (3.4.8)\n",
      "Requirement already satisfied: certifi in c:\\users\\ashud\\anaconda3\\lib\\site-packages (from urllib3[secure,socks]~=1.26->selenium) (2021.10.8)\n",
      "Requirement already satisfied: PySocks!=1.5.7,<2.0,>=1.5.6 in c:\\users\\ashud\\anaconda3\\lib\\site-packages (from urllib3[secure,socks]~=1.26->selenium) (1.7.1)\n",
      "Requirement already satisfied: six>=1.5.2 in c:\\users\\ashud\\anaconda3\\lib\\site-packages (from pyOpenSSL>=0.14->urllib3[secure,socks]~=1.26->selenium) (1.16.0)\n",
      "Requirement already satisfied: h11<1,>=0.9.0 in c:\\users\\ashud\\anaconda3\\lib\\site-packages (from wsproto>=0.14->trio-websocket~=0.9->selenium) (0.13.0)\n"
     ]
    }
   ],
   "source": [
    "!pip install selenium"
   ]
  },
  {
   "cell_type": "code",
   "execution_count": 192,
   "id": "98cfc4ce",
   "metadata": {},
   "outputs": [],
   "source": [
    "import selenium\n",
    "import pandas as pd\n",
    "from selenium import webdriver\n",
    "import warnings\n",
    "warnings.filterwarnings('ignore')\n",
    "from selenium.common.exceptions import StaleElementReferenceException, NoSuchElementException\n",
    "from selenium.webdriver.common.by import By\n",
    "import time"
   ]
  },
  {
   "cell_type": "markdown",
   "id": "d2564bb7",
   "metadata": {},
   "source": [
    "Q1: Write a python program to scrape data for “Data Analyst” Job position in “Bangalore” location. You\n",
    "have to scrape the job-title, job-location, company_name, experience_required. You have to scrape first 10\n",
    "jobs data.\n"
   ]
  },
  {
   "cell_type": "code",
   "execution_count": 19,
   "id": "2e22eaa9",
   "metadata": {},
   "outputs": [],
   "source": [
    "driver=webdriver.Chrome(r'C:\\Users\\ashud\\Desktop\\FLIP ROBO INTERNSHIP\\chromedriver_win32\\chromedriver.exe')"
   ]
  },
  {
   "cell_type": "code",
   "execution_count": 20,
   "id": "d305ae0f",
   "metadata": {},
   "outputs": [],
   "source": [
    "driver.get('https://www.naukri.com/')"
   ]
  },
  {
   "cell_type": "code",
   "execution_count": 21,
   "id": "d5a5a3b1",
   "metadata": {},
   "outputs": [],
   "source": [
    "Designation=driver.find_element(By.CLASS_NAME,'suggestor-input')\n",
    "Designation.send_keys('Data Analyst')"
   ]
  },
  {
   "cell_type": "code",
   "execution_count": 22,
   "id": "fe34f09a",
   "metadata": {},
   "outputs": [],
   "source": [
    "Location=driver.find_element(By.XPATH,'/html/body/div[1]/div[2]/div[3]/div/div/div[5]/div/div/div/input')\n",
    "Location.send_keys('Bangalore')"
   ]
  },
  {
   "cell_type": "code",
   "execution_count": 23,
   "id": "2c272b91",
   "metadata": {},
   "outputs": [],
   "source": [
    "search=driver.find_element(By.CLASS_NAME,'qsbSubmit')\n",
    "search.click()"
   ]
  },
  {
   "cell_type": "code",
   "execution_count": 18,
   "id": "bae2eebe",
   "metadata": {},
   "outputs": [],
   "source": [
    "job_title=[]\n",
    "job_location=[]\n",
    "company_name=[]\n",
    "experience_required=[]"
   ]
  },
  {
   "cell_type": "code",
   "execution_count": 24,
   "id": "cb610ee6",
   "metadata": {},
   "outputs": [],
   "source": [
    "titletags=driver.find_elements(By.XPATH,'//a[@class=\"title fw500 ellipsis\"]')\n",
    "for i in titletags[:10]:\n",
    "    title=i.text\n",
    "    job_title.append(title)\n",
    "\n",
    "locationtags=driver.find_elements(By.XPATH,'//li[@class=\"fleft grey-text br2 placeHolderLi location\"]')\n",
    "for i in locationtags[:10]:\n",
    "    location=i.text\n",
    "    job_location.append(location)\n",
    "\n",
    "companytags=driver.find_elements(By.XPATH,'//a[@class=\"subTitle ellipsis fleft\"]')\n",
    "for i in companytags[:10]:\n",
    "    company=i.text\n",
    "    company_name.append(company)\n",
    "    \n",
    "experiencetags=driver.find_elements(By.XPATH,'//li[@class=\"fleft grey-text br2 placeHolderLi experience\"]//span')\n",
    "for i in experiencetags[:10]:\n",
    "    experience=i.text\n",
    "    experience_required.append(experience)\n",
    "  "
   ]
  },
  {
   "cell_type": "code",
   "execution_count": 25,
   "id": "2dacf8a7",
   "metadata": {},
   "outputs": [
    {
     "name": "stdout",
     "output_type": "stream",
     "text": [
      "10 10 10 10\n"
     ]
    }
   ],
   "source": [
    "print(len(job_title),len( job_location),len(company_name),len(experience_required))"
   ]
  },
  {
   "cell_type": "code",
   "execution_count": 26,
   "id": "351dda9b",
   "metadata": {},
   "outputs": [
    {
     "data": {
      "text/html": [
       "<div>\n",
       "<style scoped>\n",
       "    .dataframe tbody tr th:only-of-type {\n",
       "        vertical-align: middle;\n",
       "    }\n",
       "\n",
       "    .dataframe tbody tr th {\n",
       "        vertical-align: top;\n",
       "    }\n",
       "\n",
       "    .dataframe thead th {\n",
       "        text-align: right;\n",
       "    }\n",
       "</style>\n",
       "<table border=\"1\" class=\"dataframe\">\n",
       "  <thead>\n",
       "    <tr style=\"text-align: right;\">\n",
       "      <th></th>\n",
       "      <th>job_title</th>\n",
       "      <th>job_location</th>\n",
       "      <th>company_name</th>\n",
       "      <th>experience_required</th>\n",
       "    </tr>\n",
       "  </thead>\n",
       "  <tbody>\n",
       "    <tr>\n",
       "      <th>0</th>\n",
       "      <td>Senior Data Analyst</td>\n",
       "      <td>Bangalore/Bengaluru(Old Madras Road)</td>\n",
       "      <td>KrazyBee</td>\n",
       "      <td>3-6 Yrs</td>\n",
       "    </tr>\n",
       "    <tr>\n",
       "      <th>1</th>\n",
       "      <td>Sr. Data Analyst</td>\n",
       "      <td>Bangalore/Bengaluru, Pune</td>\n",
       "      <td>Global Indian School Education Services</td>\n",
       "      <td>6-11 Yrs</td>\n",
       "    </tr>\n",
       "    <tr>\n",
       "      <th>2</th>\n",
       "      <td>Master Data Management Business Analyst</td>\n",
       "      <td>Bangalore/Bengaluru</td>\n",
       "      <td>Accenture</td>\n",
       "      <td>6-8 Yrs</td>\n",
       "    </tr>\n",
       "    <tr>\n",
       "      <th>3</th>\n",
       "      <td>Senior Data Analyst</td>\n",
       "      <td>Bangalore/Bengaluru</td>\n",
       "      <td>Optum</td>\n",
       "      <td>5-7 Yrs</td>\n",
       "    </tr>\n",
       "    <tr>\n",
       "      <th>4</th>\n",
       "      <td>Intern Data Analyst</td>\n",
       "      <td>Bangalore/Bengaluru</td>\n",
       "      <td>FullStackTechies</td>\n",
       "      <td>0-1 Yrs</td>\n",
       "    </tr>\n",
       "    <tr>\n",
       "      <th>5</th>\n",
       "      <td>Data Analyst - Python/Artificial Intelligence</td>\n",
       "      <td>Bangalore/Bengaluru, Mumbai, Hyderabad/Secunde...</td>\n",
       "      <td>iMindYourBusiness</td>\n",
       "      <td>0-2 Yrs</td>\n",
       "    </tr>\n",
       "    <tr>\n",
       "      <th>6</th>\n",
       "      <td>Lead Data Analyst</td>\n",
       "      <td>Bangalore/Bengaluru</td>\n",
       "      <td>McAfee</td>\n",
       "      <td>5-9 Yrs</td>\n",
       "    </tr>\n",
       "    <tr>\n",
       "      <th>7</th>\n",
       "      <td>Data Analyst</td>\n",
       "      <td>Bangalore/Bengaluru</td>\n",
       "      <td>Bright Money</td>\n",
       "      <td>0-2 Yrs</td>\n",
       "    </tr>\n",
       "    <tr>\n",
       "      <th>8</th>\n",
       "      <td>Data Analyst</td>\n",
       "      <td>Bangalore/Bengaluru</td>\n",
       "      <td>Bayer</td>\n",
       "      <td>2-5 Yrs</td>\n",
       "    </tr>\n",
       "    <tr>\n",
       "      <th>9</th>\n",
       "      <td>Leap COE Intern(Data Analyst)</td>\n",
       "      <td>Bangalore/Bengaluru</td>\n",
       "      <td>Info Origin Inc.</td>\n",
       "      <td>0-1 Yrs</td>\n",
       "    </tr>\n",
       "  </tbody>\n",
       "</table>\n",
       "</div>"
      ],
      "text/plain": [
       "                                       job_title  \\\n",
       "0                            Senior Data Analyst   \n",
       "1                               Sr. Data Analyst   \n",
       "2        Master Data Management Business Analyst   \n",
       "3                            Senior Data Analyst   \n",
       "4                            Intern Data Analyst   \n",
       "5  Data Analyst - Python/Artificial Intelligence   \n",
       "6                              Lead Data Analyst   \n",
       "7                                   Data Analyst   \n",
       "8                                   Data Analyst   \n",
       "9                  Leap COE Intern(Data Analyst)   \n",
       "\n",
       "                                        job_location  \\\n",
       "0               Bangalore/Bengaluru(Old Madras Road)   \n",
       "1                          Bangalore/Bengaluru, Pune   \n",
       "2                                Bangalore/Bengaluru   \n",
       "3                                Bangalore/Bengaluru   \n",
       "4                                Bangalore/Bengaluru   \n",
       "5  Bangalore/Bengaluru, Mumbai, Hyderabad/Secunde...   \n",
       "6                                Bangalore/Bengaluru   \n",
       "7                                Bangalore/Bengaluru   \n",
       "8                                Bangalore/Bengaluru   \n",
       "9                                Bangalore/Bengaluru   \n",
       "\n",
       "                              company_name experience_required  \n",
       "0                                 KrazyBee             3-6 Yrs  \n",
       "1  Global Indian School Education Services            6-11 Yrs  \n",
       "2                                Accenture             6-8 Yrs  \n",
       "3                                    Optum             5-7 Yrs  \n",
       "4                         FullStackTechies             0-1 Yrs  \n",
       "5                        iMindYourBusiness             0-2 Yrs  \n",
       "6                                   McAfee             5-9 Yrs  \n",
       "7                             Bright Money             0-2 Yrs  \n",
       "8                                    Bayer             2-5 Yrs  \n",
       "9                         Info Origin Inc.             0-1 Yrs  "
      ]
     },
     "execution_count": 26,
     "metadata": {},
     "output_type": "execute_result"
    }
   ],
   "source": [
    "DF=pd.DataFrame({'job_title':job_title,'job_location':job_location,'company_name':company_name,'experience_required':experience_required})\n",
    "DF"
   ]
  },
  {
   "cell_type": "markdown",
   "id": "7d3cdb1d",
   "metadata": {},
   "source": [
    "Q2: Write a python program to scrape data for “Data Scientist” Job position in “Bangalore” location. You\n",
    "have to scrape the job-title, job-location, company_name. You have to scrape first 10 jobs data.\n",
    "This task will be done in following steps:"
   ]
  },
  {
   "cell_type": "code",
   "execution_count": 28,
   "id": "b40b208f",
   "metadata": {},
   "outputs": [],
   "source": [
    "driver=webdriver.Chrome(r'C:\\Users\\ashud\\Desktop\\FLIP ROBO INTERNSHIP\\chromedriver_win32\\chromedriver.exe')"
   ]
  },
  {
   "cell_type": "code",
   "execution_count": 29,
   "id": "036109f3",
   "metadata": {},
   "outputs": [],
   "source": [
    "driver.get('https://www.naukri.com/')"
   ]
  },
  {
   "cell_type": "code",
   "execution_count": 30,
   "id": "a3f28e9d",
   "metadata": {},
   "outputs": [],
   "source": [
    "Designation=driver.find_element(By.CLASS_NAME,'suggestor-input')\n",
    "Designation.send_keys('Data Scientist')"
   ]
  },
  {
   "cell_type": "code",
   "execution_count": 31,
   "id": "26dd0525",
   "metadata": {},
   "outputs": [],
   "source": [
    "Location=driver.find_element(By.XPATH,'/html/body/div[1]/div[2]/div[3]/div/div/div[5]/div/div/div/input')\n",
    "Location.send_keys('Bangalore')"
   ]
  },
  {
   "cell_type": "code",
   "execution_count": 32,
   "id": "c59019b6",
   "metadata": {},
   "outputs": [],
   "source": [
    "search=driver.find_element(By.CLASS_NAME,'qsbSubmit')\n",
    "search.click()"
   ]
  },
  {
   "cell_type": "code",
   "execution_count": 33,
   "id": "2709d20a",
   "metadata": {},
   "outputs": [
    {
     "name": "stdout",
     "output_type": "stream",
     "text": [
      "10 10 10 10\n"
     ]
    }
   ],
   "source": [
    "job_title=[]\n",
    "job_location=[]\n",
    "company_name=[]\n",
    "\n",
    "titletags=driver.find_elements(By.XPATH,'//a[@class=\"title fw500 ellipsis\"]')\n",
    "for i in titletags[:10]:\n",
    "    title=i.text\n",
    "    job_title.append(title)\n",
    "\n",
    "locationtags=driver.find_elements(By.XPATH,'//li[@class=\"fleft grey-text br2 placeHolderLi location\"]')\n",
    "for i in locationtags[:10]:\n",
    "    location=i.text\n",
    "    job_location.append(location)\n",
    "\n",
    "companytags=driver.find_elements(By.XPATH,'//a[@class=\"subTitle ellipsis fleft\"]')\n",
    "for i in companytags[:10]:\n",
    "    company=i.text\n",
    "    company_name.append(company)\n",
    "    \n",
    "print(len(job_title),len( job_location),len(company_name),len(experience_required))\n",
    "    \n",
    "\n"
   ]
  },
  {
   "cell_type": "code",
   "execution_count": 34,
   "id": "70cb6055",
   "metadata": {},
   "outputs": [
    {
     "data": {
      "text/html": [
       "<div>\n",
       "<style scoped>\n",
       "    .dataframe tbody tr th:only-of-type {\n",
       "        vertical-align: middle;\n",
       "    }\n",
       "\n",
       "    .dataframe tbody tr th {\n",
       "        vertical-align: top;\n",
       "    }\n",
       "\n",
       "    .dataframe thead th {\n",
       "        text-align: right;\n",
       "    }\n",
       "</style>\n",
       "<table border=\"1\" class=\"dataframe\">\n",
       "  <thead>\n",
       "    <tr style=\"text-align: right;\">\n",
       "      <th></th>\n",
       "      <th>job_title</th>\n",
       "      <th>job_location</th>\n",
       "      <th>company_name</th>\n",
       "    </tr>\n",
       "  </thead>\n",
       "  <tbody>\n",
       "    <tr>\n",
       "      <th>0</th>\n",
       "      <td>Tcs Hiring For Data Scientist</td>\n",
       "      <td>Bangalore/Bengaluru, Chennai, Mumbai (All Areas)</td>\n",
       "      <td>TATA CONSULTANCY SERVICES (TCS)</td>\n",
       "    </tr>\n",
       "    <tr>\n",
       "      <th>1</th>\n",
       "      <td>Senior Manager - EmTech - Machine Learning - P&amp;T</td>\n",
       "      <td>Bangalore/Bengaluru, Mumbai, Hyderabad/Secunde...</td>\n",
       "      <td>PwC</td>\n",
       "    </tr>\n",
       "    <tr>\n",
       "      <th>2</th>\n",
       "      <td>Assistant Manager - Data Science</td>\n",
       "      <td>Bangalore/Bengaluru, Mumbai, Pune</td>\n",
       "      <td>CitiusTech</td>\n",
       "    </tr>\n",
       "    <tr>\n",
       "      <th>3</th>\n",
       "      <td>Analystics &amp; Modeling Specialist</td>\n",
       "      <td>Bangalore/Bengaluru, Kolkata, Mumbai, Hyderaba...</td>\n",
       "      <td>Accenture</td>\n",
       "    </tr>\n",
       "    <tr>\n",
       "      <th>4</th>\n",
       "      <td>Data scientist _Tata Consultancy Services(Tcs)</td>\n",
       "      <td>Bangalore/Bengaluru, Kochi/Cochin, Indore, New...</td>\n",
       "      <td>TATA CONSULTANCY SERVICES (TCS)</td>\n",
       "    </tr>\n",
       "    <tr>\n",
       "      <th>5</th>\n",
       "      <td>Job||Job Opening For AI Technologist - Data Sc...</td>\n",
       "      <td>Bangalore/Bengaluru, New Delhi, Hyderabad/Secu...</td>\n",
       "      <td>Wipro</td>\n",
       "    </tr>\n",
       "    <tr>\n",
       "      <th>6</th>\n",
       "      <td>Hiring For DATA Scientist @ NTT DATA Business ...</td>\n",
       "      <td>Bangalore/Bengaluru, Noida, Hyderabad/Secunder...</td>\n",
       "      <td>NTT DATA Business Solutions Private Limited</td>\n",
       "    </tr>\n",
       "    <tr>\n",
       "      <th>7</th>\n",
       "      <td>Urgent Job Opening For AI Practitioner - Data ...</td>\n",
       "      <td>Bangalore/Bengaluru, Kochi/Cochin, New Delhi, ...</td>\n",
       "      <td>Wipro</td>\n",
       "    </tr>\n",
       "    <tr>\n",
       "      <th>8</th>\n",
       "      <td>Data Scientist Python</td>\n",
       "      <td>Bangalore/Bengaluru, Hyderabad/Secunderabad</td>\n",
       "      <td>Conduent</td>\n",
       "    </tr>\n",
       "    <tr>\n",
       "      <th>9</th>\n",
       "      <td>Data Scientist</td>\n",
       "      <td>Bangalore/Bengaluru</td>\n",
       "      <td>Concentrix</td>\n",
       "    </tr>\n",
       "  </tbody>\n",
       "</table>\n",
       "</div>"
      ],
      "text/plain": [
       "                                           job_title  \\\n",
       "0                      Tcs Hiring For Data Scientist   \n",
       "1   Senior Manager - EmTech - Machine Learning - P&T   \n",
       "2                   Assistant Manager - Data Science   \n",
       "3                   Analystics & Modeling Specialist   \n",
       "4     Data scientist _Tata Consultancy Services(Tcs)   \n",
       "5  Job||Job Opening For AI Technologist - Data Sc...   \n",
       "6  Hiring For DATA Scientist @ NTT DATA Business ...   \n",
       "7  Urgent Job Opening For AI Practitioner - Data ...   \n",
       "8                              Data Scientist Python   \n",
       "9                                     Data Scientist   \n",
       "\n",
       "                                        job_location  \\\n",
       "0   Bangalore/Bengaluru, Chennai, Mumbai (All Areas)   \n",
       "1  Bangalore/Bengaluru, Mumbai, Hyderabad/Secunde...   \n",
       "2                  Bangalore/Bengaluru, Mumbai, Pune   \n",
       "3  Bangalore/Bengaluru, Kolkata, Mumbai, Hyderaba...   \n",
       "4  Bangalore/Bengaluru, Kochi/Cochin, Indore, New...   \n",
       "5  Bangalore/Bengaluru, New Delhi, Hyderabad/Secu...   \n",
       "6  Bangalore/Bengaluru, Noida, Hyderabad/Secunder...   \n",
       "7  Bangalore/Bengaluru, Kochi/Cochin, New Delhi, ...   \n",
       "8        Bangalore/Bengaluru, Hyderabad/Secunderabad   \n",
       "9                                Bangalore/Bengaluru   \n",
       "\n",
       "                                  company_name  \n",
       "0              TATA CONSULTANCY SERVICES (TCS)  \n",
       "1                                          PwC  \n",
       "2                                   CitiusTech  \n",
       "3                                    Accenture  \n",
       "4              TATA CONSULTANCY SERVICES (TCS)  \n",
       "5                                        Wipro  \n",
       "6  NTT DATA Business Solutions Private Limited  \n",
       "7                                        Wipro  \n",
       "8                                     Conduent  \n",
       "9                                   Concentrix  "
      ]
     },
     "execution_count": 34,
     "metadata": {},
     "output_type": "execute_result"
    }
   ],
   "source": [
    "DF=pd.DataFrame({'job_title':job_title,'job_location':job_location,'company_name':company_name})\n",
    "DF"
   ]
  },
  {
   "cell_type": "markdown",
   "id": "cba92431",
   "metadata": {},
   "source": [
    "Q3: In this question you have to scrape data using the filters available on the webpage as shown below:"
   ]
  },
  {
   "cell_type": "code",
   "execution_count": 4,
   "id": "607de092",
   "metadata": {},
   "outputs": [],
   "source": [
    "driver=webdriver.Chrome(r'C:\\Users\\ashud\\Desktop\\FLIP ROBO INTERNSHIP\\chromedriver_win32\\chromedriver.exe')"
   ]
  },
  {
   "cell_type": "code",
   "execution_count": 5,
   "id": "1b12aece",
   "metadata": {},
   "outputs": [],
   "source": [
    "driver.get('https://www.naukri.com/')"
   ]
  },
  {
   "cell_type": "code",
   "execution_count": 6,
   "id": "c4c1c823",
   "metadata": {},
   "outputs": [],
   "source": [
    "Designation=driver.find_element(By.CLASS_NAME,'suggestor-input')\n",
    "Designation.send_keys('Data Scientist')"
   ]
  },
  {
   "cell_type": "code",
   "execution_count": 7,
   "id": "8a7af763",
   "metadata": {},
   "outputs": [],
   "source": [
    "search=driver.find_element(By.CLASS_NAME,'qsbSubmit')\n",
    "search.click()"
   ]
  },
  {
   "cell_type": "code",
   "execution_count": 15,
   "id": "3b0eea6f",
   "metadata": {},
   "outputs": [],
   "source": [
    "Locationfilter=driver.find_element(By.XPATH,'/html/body/div[1]/div[3]/div[2]/section[1]/div[2]/div[3]/div[2]/div[3]/label/p/span[1]')\n",
    "Locationfilter.click()"
   ]
  },
  {
   "cell_type": "code",
   "execution_count": 16,
   "id": "5c56b218",
   "metadata": {},
   "outputs": [],
   "source": [
    "salaryfilter=driver.find_element(By.XPATH,'/html/body/div[1]/div[3]/div[2]/section[1]/div[2]/div[3]/div[2]/div[2]/label/p/span[1]')\n",
    "salaryfilter.click()"
   ]
  },
  {
   "cell_type": "code",
   "execution_count": null,
   "id": "c11738ed",
   "metadata": {},
   "outputs": [],
   "source": []
  },
  {
   "cell_type": "code",
   "execution_count": 18,
   "id": "5e45d664",
   "metadata": {},
   "outputs": [
    {
     "name": "stdout",
     "output_type": "stream",
     "text": [
      "10 10 10 10\n"
     ]
    }
   ],
   "source": [
    "job_title=[]\n",
    "job_location=[]\n",
    "company_name=[]\n",
    "experience_required=[]\n",
    "\n",
    "titletags=driver.find_elements(By.XPATH,'//a[@class=\"title fw500 ellipsis\"]')\n",
    "for i in titletags[:10]:\n",
    "    title=i.text\n",
    "    job_title.append(title)\n",
    "\n",
    "locationtags=driver.find_elements(By.XPATH,'//li[@class=\"fleft grey-text br2 placeHolderLi location\"]//span')\n",
    "for i in locationtags[:10]:\n",
    "    location=i.text\n",
    "    job_location.append(location)\n",
    "\n",
    "companytags=driver.find_elements(By.XPATH,'//a[@class=\"subTitle ellipsis fleft\"]')\n",
    "for i in companytags[:10]:\n",
    "    company=i.text\n",
    "    company_name.append(company)\n",
    "    \n",
    "experiencetags=driver.find_elements(By.XPATH,'//li[@class=\"fleft grey-text br2 placeHolderLi experience\"]')\n",
    "for i in experiencetags[:10]:\n",
    "    experience=i.text\n",
    "    experience_required.append(experience)\n",
    "  \n",
    "print(len(job_title),len( job_location),len(company_name),len(experience_required))"
   ]
  },
  {
   "cell_type": "code",
   "execution_count": 19,
   "id": "69cee312",
   "metadata": {},
   "outputs": [
    {
     "data": {
      "text/html": [
       "<div>\n",
       "<style scoped>\n",
       "    .dataframe tbody tr th:only-of-type {\n",
       "        vertical-align: middle;\n",
       "    }\n",
       "\n",
       "    .dataframe tbody tr th {\n",
       "        vertical-align: top;\n",
       "    }\n",
       "\n",
       "    .dataframe thead th {\n",
       "        text-align: right;\n",
       "    }\n",
       "</style>\n",
       "<table border=\"1\" class=\"dataframe\">\n",
       "  <thead>\n",
       "    <tr style=\"text-align: right;\">\n",
       "      <th></th>\n",
       "      <th>job_title</th>\n",
       "      <th>job_location</th>\n",
       "      <th>company_name</th>\n",
       "      <th>experience_required</th>\n",
       "    </tr>\n",
       "  </thead>\n",
       "  <tbody>\n",
       "    <tr>\n",
       "      <th>0</th>\n",
       "      <td>Job||Job Opening For AI Technologist - Data Sc...</td>\n",
       "      <td>New Delhi, Hyderabad/Secunderabad, Pune, Chenn...</td>\n",
       "      <td>Wipro</td>\n",
       "      <td>5-10 Yrs</td>\n",
       "    </tr>\n",
       "    <tr>\n",
       "      <th>1</th>\n",
       "      <td>Data Scientist - Noida/Bangalore</td>\n",
       "      <td>Noida, Bangalore/Bengaluru</td>\n",
       "      <td>EXL</td>\n",
       "      <td>5-10 Yrs</td>\n",
       "    </tr>\n",
       "    <tr>\n",
       "      <th>2</th>\n",
       "      <td>DigitalBCG GAMMA Data Scientist</td>\n",
       "      <td>New Delhi, Bangalore/Bengaluru</td>\n",
       "      <td>Boston Consulting Group</td>\n",
       "      <td>2-5 Yrs</td>\n",
       "    </tr>\n",
       "    <tr>\n",
       "      <th>3</th>\n",
       "      <td>Data Scientist - Predictive Analytics</td>\n",
       "      <td>Noida, Mumbai, Chandigarh, Hyderabad/Secundera...</td>\n",
       "      <td>Confidential</td>\n",
       "      <td>1-6 Yrs</td>\n",
       "    </tr>\n",
       "    <tr>\n",
       "      <th>4</th>\n",
       "      <td>Data Scientist</td>\n",
       "      <td>Gurgaon/Gurugram</td>\n",
       "      <td>Optum</td>\n",
       "      <td>2-7 Yrs</td>\n",
       "    </tr>\n",
       "    <tr>\n",
       "      <th>5</th>\n",
       "      <td>Chat-bot Developer / Data Scientist</td>\n",
       "      <td>Mumbai, New Delhi, Bangalore/Bengaluru</td>\n",
       "      <td>Big Seo Buzz</td>\n",
       "      <td>2-7 Yrs</td>\n",
       "    </tr>\n",
       "    <tr>\n",
       "      <th>6</th>\n",
       "      <td>Data Scientist / Chat-bot Developer</td>\n",
       "      <td>(WFH during Covid)</td>\n",
       "      <td>Big Seo Buzz</td>\n",
       "      <td>3-7 Yrs</td>\n",
       "    </tr>\n",
       "    <tr>\n",
       "      <th>7</th>\n",
       "      <td>Data Scientist - Engine Algorithm</td>\n",
       "      <td>New Delhi, Bangalore/Bengaluru, Mumbai (All Ar...</td>\n",
       "      <td>Primo Hiring</td>\n",
       "      <td>1-3 Yrs</td>\n",
       "    </tr>\n",
       "    <tr>\n",
       "      <th>8</th>\n",
       "      <td>Data Scientist For Healthcare Product team</td>\n",
       "      <td>Delhi / NCR, Kolkata, Mumbai, Hyderabad/Secund...</td>\n",
       "      <td>SECUREKLOUD TECHNOLOGIES</td>\n",
       "      <td>2-7 Yrs</td>\n",
       "    </tr>\n",
       "    <tr>\n",
       "      <th>9</th>\n",
       "      <td>Data Scientist</td>\n",
       "      <td>Delhi / NCR, Chennai, Bangalore/Bengaluru</td>\n",
       "      <td>Celebal Technologies</td>\n",
       "      <td>1-5 Yrs</td>\n",
       "    </tr>\n",
       "  </tbody>\n",
       "</table>\n",
       "</div>"
      ],
      "text/plain": [
       "                                           job_title  \\\n",
       "0  Job||Job Opening For AI Technologist - Data Sc...   \n",
       "1                   Data Scientist - Noida/Bangalore   \n",
       "2                    DigitalBCG GAMMA Data Scientist   \n",
       "3              Data Scientist - Predictive Analytics   \n",
       "4                                     Data Scientist   \n",
       "5                Chat-bot Developer / Data Scientist   \n",
       "6                Data Scientist / Chat-bot Developer   \n",
       "7                  Data Scientist - Engine Algorithm   \n",
       "8         Data Scientist For Healthcare Product team   \n",
       "9                                     Data Scientist   \n",
       "\n",
       "                                        job_location  \\\n",
       "0  New Delhi, Hyderabad/Secunderabad, Pune, Chenn...   \n",
       "1                         Noida, Bangalore/Bengaluru   \n",
       "2                     New Delhi, Bangalore/Bengaluru   \n",
       "3  Noida, Mumbai, Chandigarh, Hyderabad/Secundera...   \n",
       "4                                   Gurgaon/Gurugram   \n",
       "5             Mumbai, New Delhi, Bangalore/Bengaluru   \n",
       "6                                 (WFH during Covid)   \n",
       "7  New Delhi, Bangalore/Bengaluru, Mumbai (All Ar...   \n",
       "8  Delhi / NCR, Kolkata, Mumbai, Hyderabad/Secund...   \n",
       "9          Delhi / NCR, Chennai, Bangalore/Bengaluru   \n",
       "\n",
       "               company_name experience_required  \n",
       "0                     Wipro            5-10 Yrs  \n",
       "1                       EXL            5-10 Yrs  \n",
       "2   Boston Consulting Group             2-5 Yrs  \n",
       "3              Confidential             1-6 Yrs  \n",
       "4                     Optum             2-7 Yrs  \n",
       "5              Big Seo Buzz             2-7 Yrs  \n",
       "6              Big Seo Buzz             3-7 Yrs  \n",
       "7              Primo Hiring             1-3 Yrs  \n",
       "8  SECUREKLOUD TECHNOLOGIES             2-7 Yrs  \n",
       "9      Celebal Technologies             1-5 Yrs  "
      ]
     },
     "execution_count": 19,
     "metadata": {},
     "output_type": "execute_result"
    }
   ],
   "source": [
    "DF=pd.DataFrame({'job_title':job_title,'job_location':job_location,'company_name':company_name,'experience_required':experience_required})\n",
    "DF"
   ]
  },
  {
   "cell_type": "markdown",
   "id": "57e1a12b",
   "metadata": {},
   "source": [
    "Q4: Scrape data of first 100 sunglasses listings on flipkart.com. You have to scrape four attributes:\n",
    "        \n",
    "1. Brand\n",
    "\n",
    "2. Product Description\n",
    "\n",
    "3. Price\n",
    "\n",
    "4. Discount\n"
   ]
  },
  {
   "cell_type": "code",
   "execution_count": 246,
   "id": "cf73876a",
   "metadata": {},
   "outputs": [],
   "source": [
    "driver=webdriver.Chrome(r'C:\\Users\\ashud\\Desktop\\FLIP ROBO INTERNSHIP\\chromedriver_win32\\chromedriver.exe')"
   ]
  },
  {
   "cell_type": "code",
   "execution_count": 247,
   "id": "c3fc4f5e",
   "metadata": {},
   "outputs": [],
   "source": [
    "driver.get('https://www.flipkart.com/')"
   ]
  },
  {
   "cell_type": "code",
   "execution_count": 248,
   "id": "5fa15f55",
   "metadata": {},
   "outputs": [],
   "source": [
    "product=driver.find_element(By.CLASS_NAME,'_3704LK')\n",
    "product.send_keys('sunglasses')"
   ]
  },
  {
   "cell_type": "code",
   "execution_count": 249,
   "id": "f0c4597f",
   "metadata": {},
   "outputs": [],
   "source": [
    "search=driver.find_element(By.CLASS_NAME,'L0Z3Pu')\n",
    "search.click()"
   ]
  },
  {
   "cell_type": "code",
   "execution_count": 250,
   "id": "ef8c3dbd",
   "metadata": {},
   "outputs": [],
   "source": [
    "brand_name=[]\n",
    "\n",
    "start=0\n",
    "end=3\n",
    "for page in range(start,end):\n",
    "    brand_tags=driver.find_elements(By.XPATH,'//div[@class=\"_2WkVRV\"]')\n",
    "    for i in brand_tags:\n",
    "        brand=i.text\n",
    "        brand_name.append(brand)\n",
    "    next_page=driver.find_element(By.XPATH,'//span[contains(text(),\"Next\")]')    # or XPATH : //span[text()=\"Next\"]\n",
    "    next_page.click()\n",
    "    time.sleep(3)\n"
   ]
  },
  {
   "cell_type": "code",
   "execution_count": 251,
   "id": "8251a918",
   "metadata": {},
   "outputs": [
    {
     "data": {
      "text/plain": [
       "120"
      ]
     },
     "execution_count": 251,
     "metadata": {},
     "output_type": "execute_result"
    }
   ],
   "source": [
    "len(brand_name)"
   ]
  },
  {
   "cell_type": "code",
   "execution_count": 252,
   "id": "0f660c2c",
   "metadata": {},
   "outputs": [],
   "source": [
    "page01=driver.find_element(By.XPATH,'//a[@class=\"ge-49M\" and text()=\"1\"]')\n",
    "page01.click()"
   ]
  },
  {
   "cell_type": "code",
   "execution_count": 253,
   "id": "58b96cfb",
   "metadata": {},
   "outputs": [],
   "source": [
    "product_description=[]\n",
    "\n",
    "start=0\n",
    "end=3\n",
    "for page in range(start,end):\n",
    "    description_tags=driver.find_elements(By.XPATH,'//a[@class=\"IRpwTa\"]')\n",
    "    for i in description_tags:\n",
    "        description=i.text\n",
    "        product_description.append(description)\n",
    "    next_page=driver.find_element(By.XPATH,'//span[contains(text(),\"Next\")]')\n",
    "    next_page.click()\n",
    "    time.sleep(3)"
   ]
  },
  {
   "cell_type": "code",
   "execution_count": 254,
   "id": "0bc61ed4",
   "metadata": {},
   "outputs": [
    {
     "data": {
      "text/plain": [
       "120"
      ]
     },
     "execution_count": 254,
     "metadata": {},
     "output_type": "execute_result"
    }
   ],
   "source": [
    "len(product_description)"
   ]
  },
  {
   "cell_type": "code",
   "execution_count": 255,
   "id": "ab37da4d",
   "metadata": {},
   "outputs": [],
   "source": [
    "page01=driver.find_element(By.XPATH,'//a[@class=\"ge-49M\" and text()=\"1\"]')\n",
    "page01.click()"
   ]
  },
  {
   "cell_type": "code",
   "execution_count": 256,
   "id": "18305ec3",
   "metadata": {},
   "outputs": [],
   "source": [
    "price=[]\n",
    "\n",
    "start=0\n",
    "end=3\n",
    "\n",
    "for page in range(start,end):\n",
    "    price_tags=driver.find_elements(By.XPATH,'//div[@class=\"_30jeq3\"]')\n",
    "    for i in price_tags:\n",
    "        ptag=i.text\n",
    "        price.append(ptag)\n",
    "    next_page=driver.find_element(By.XPATH,'//span[contains(text(),\"Next\")]')\n",
    "    next_page.click()\n",
    "    time.sleep(3)"
   ]
  },
  {
   "cell_type": "code",
   "execution_count": 257,
   "id": "3031959c",
   "metadata": {},
   "outputs": [
    {
     "data": {
      "text/plain": [
       "120"
      ]
     },
     "execution_count": 257,
     "metadata": {},
     "output_type": "execute_result"
    }
   ],
   "source": [
    "len(price)"
   ]
  },
  {
   "cell_type": "code",
   "execution_count": 258,
   "id": "acd69452",
   "metadata": {},
   "outputs": [],
   "source": [
    "page01=driver.find_element(By.XPATH,'//a[@class=\"ge-49M\" and text()=\"1\"]')\n",
    "page01.click()"
   ]
  },
  {
   "cell_type": "code",
   "execution_count": 259,
   "id": "1857b70d",
   "metadata": {},
   "outputs": [],
   "source": [
    "discount=[]\n",
    "\n",
    "for page in range(start,end):\n",
    "    discount_tags=driver.find_elements(By.XPATH,'//div[@class=\"_3Ay6Sb\"]')\n",
    "    for i in discount_tags:\n",
    "        distag=i.text\n",
    "        discount.append(distag)\n",
    "    next_page=driver.find_element(By.XPATH,'//span[contains(text(),\"Next\")]')\n",
    "    next_page.click()\n",
    "    time.sleep(3)"
   ]
  },
  {
   "cell_type": "code",
   "execution_count": 260,
   "id": "dad2a9e2",
   "metadata": {},
   "outputs": [
    {
     "data": {
      "text/plain": [
       "120"
      ]
     },
     "execution_count": 260,
     "metadata": {},
     "output_type": "execute_result"
    }
   ],
   "source": [
    "len(discount)"
   ]
  },
  {
   "cell_type": "code",
   "execution_count": 261,
   "id": "089e942f",
   "metadata": {},
   "outputs": [
    {
     "data": {
      "text/html": [
       "<div>\n",
       "<style scoped>\n",
       "    .dataframe tbody tr th:only-of-type {\n",
       "        vertical-align: middle;\n",
       "    }\n",
       "\n",
       "    .dataframe tbody tr th {\n",
       "        vertical-align: top;\n",
       "    }\n",
       "\n",
       "    .dataframe thead th {\n",
       "        text-align: right;\n",
       "    }\n",
       "</style>\n",
       "<table border=\"1\" class=\"dataframe\">\n",
       "  <thead>\n",
       "    <tr style=\"text-align: right;\">\n",
       "      <th></th>\n",
       "      <th>Brand</th>\n",
       "      <th>Product Description</th>\n",
       "      <th>Price</th>\n",
       "      <th>Discount</th>\n",
       "    </tr>\n",
       "  </thead>\n",
       "  <tbody>\n",
       "    <tr>\n",
       "      <th>0</th>\n",
       "      <td>VINCENT CHASE</td>\n",
       "      <td>UV Protection Wayfarer Sunglasses (59)</td>\n",
       "      <td>₹799</td>\n",
       "      <td>60% off</td>\n",
       "    </tr>\n",
       "    <tr>\n",
       "      <th>1</th>\n",
       "      <td>VINCENT CHASE</td>\n",
       "      <td>by Lenskart Polarized, UV Protection Aviator S...</td>\n",
       "      <td>₹999</td>\n",
       "      <td>50% off</td>\n",
       "    </tr>\n",
       "    <tr>\n",
       "      <th>2</th>\n",
       "      <td>Fastrack</td>\n",
       "      <td>UV Protection Wayfarer Sunglasses (Free Size)</td>\n",
       "      <td>₹799</td>\n",
       "      <td>20% off</td>\n",
       "    </tr>\n",
       "    <tr>\n",
       "      <th>3</th>\n",
       "      <td>Elligator</td>\n",
       "      <td>UV Protection Round Sunglasses (54)</td>\n",
       "      <td>₹298</td>\n",
       "      <td>88% off</td>\n",
       "    </tr>\n",
       "    <tr>\n",
       "      <th>4</th>\n",
       "      <td>PHENOMENAL</td>\n",
       "      <td>UV Protection Retro Square Sunglasses (53)</td>\n",
       "      <td>₹252</td>\n",
       "      <td>74% off</td>\n",
       "    </tr>\n",
       "    <tr>\n",
       "      <th>...</th>\n",
       "      <td>...</td>\n",
       "      <td>...</td>\n",
       "      <td>...</td>\n",
       "      <td>...</td>\n",
       "    </tr>\n",
       "    <tr>\n",
       "      <th>95</th>\n",
       "      <td>ROZZETTA CRAFT</td>\n",
       "      <td>by Lenskart UV Protection Wayfarer Sunglasses ...</td>\n",
       "      <td>₹899</td>\n",
       "      <td>67% off</td>\n",
       "    </tr>\n",
       "    <tr>\n",
       "      <th>96</th>\n",
       "      <td>kingsunglasses</td>\n",
       "      <td>Mirrored, UV Protection Wayfarer, Rectangular ...</td>\n",
       "      <td>₹219</td>\n",
       "      <td>82% off</td>\n",
       "    </tr>\n",
       "    <tr>\n",
       "      <th>97</th>\n",
       "      <td>VINCENT CHASE</td>\n",
       "      <td>by Lenskart Polarized, UV Protection Cat-eye S...</td>\n",
       "      <td>₹276</td>\n",
       "      <td>84% off</td>\n",
       "    </tr>\n",
       "    <tr>\n",
       "      <th>98</th>\n",
       "      <td>VINCENT CHASE</td>\n",
       "      <td>Polarized, UV Protection Round Sunglasses (50)</td>\n",
       "      <td>₹214</td>\n",
       "      <td>40% off</td>\n",
       "    </tr>\n",
       "    <tr>\n",
       "      <th>99</th>\n",
       "      <td>ROZZETTA CRAFT</td>\n",
       "      <td>by Lenskart Polarized, UV Protection Rectangul...</td>\n",
       "      <td>₹749</td>\n",
       "      <td>20% off</td>\n",
       "    </tr>\n",
       "  </tbody>\n",
       "</table>\n",
       "<p>100 rows × 4 columns</p>\n",
       "</div>"
      ],
      "text/plain": [
       "             Brand                                Product Description Price  \\\n",
       "0    VINCENT CHASE             UV Protection Wayfarer Sunglasses (59)  ₹799   \n",
       "1    VINCENT CHASE  by Lenskart Polarized, UV Protection Aviator S...  ₹999   \n",
       "2         Fastrack      UV Protection Wayfarer Sunglasses (Free Size)  ₹799   \n",
       "3        Elligator                UV Protection Round Sunglasses (54)  ₹298   \n",
       "4       PHENOMENAL         UV Protection Retro Square Sunglasses (53)  ₹252   \n",
       "..             ...                                                ...   ...   \n",
       "95  ROZZETTA CRAFT  by Lenskart UV Protection Wayfarer Sunglasses ...  ₹899   \n",
       "96  kingsunglasses  Mirrored, UV Protection Wayfarer, Rectangular ...  ₹219   \n",
       "97   VINCENT CHASE  by Lenskart Polarized, UV Protection Cat-eye S...  ₹276   \n",
       "98   VINCENT CHASE     Polarized, UV Protection Round Sunglasses (50)  ₹214   \n",
       "99  ROZZETTA CRAFT  by Lenskart Polarized, UV Protection Rectangul...  ₹749   \n",
       "\n",
       "   Discount  \n",
       "0   60% off  \n",
       "1   50% off  \n",
       "2   20% off  \n",
       "3   88% off  \n",
       "4   74% off  \n",
       "..      ...  \n",
       "95  67% off  \n",
       "96  82% off  \n",
       "97  84% off  \n",
       "98  40% off  \n",
       "99  20% off  \n",
       "\n",
       "[100 rows x 4 columns]"
      ]
     },
     "execution_count": 261,
     "metadata": {},
     "output_type": "execute_result"
    }
   ],
   "source": [
    "DF=pd.DataFrame({'Brand':brand_name,'Product Description':product_description,'Price':price,'Discount':discount})\n",
    "DF.head(100)"
   ]
  },
  {
   "cell_type": "markdown",
   "id": "3e955d37",
   "metadata": {},
   "source": [
    "Q5: Scrape 100 reviews data from flipkart.com for iphone11 phone."
   ]
  },
  {
   "cell_type": "code",
   "execution_count": 456,
   "id": "c6033d14",
   "metadata": {},
   "outputs": [],
   "source": [
    "driver=webdriver.Chrome(r'C:\\Users\\ashud\\Desktop\\FLIP ROBO INTERNSHIP\\chromedriver_win32\\chromedriver.exe')"
   ]
  },
  {
   "cell_type": "code",
   "execution_count": 457,
   "id": "1a9b81a0",
   "metadata": {},
   "outputs": [],
   "source": [
    "driver.get('https://www.flipkart.com/')"
   ]
  },
  {
   "cell_type": "code",
   "execution_count": 458,
   "id": "bcda1d50",
   "metadata": {},
   "outputs": [],
   "source": [
    "product=driver.find_element(By.CLASS_NAME,'_3704LK')\n",
    "product.send_keys('iphone 11')"
   ]
  },
  {
   "cell_type": "code",
   "execution_count": 459,
   "id": "788f2474",
   "metadata": {},
   "outputs": [],
   "source": [
    "search=driver.find_element(By.CLASS_NAME,'L0Z3Pu')\n",
    "search.click()"
   ]
  },
  {
   "cell_type": "code",
   "execution_count": 460,
   "id": "f864b43d",
   "metadata": {},
   "outputs": [],
   "source": [
    "iphone=driver.find_element(By.XPATH,'/html/body/div[1]/div/div[3]/div[1]/div[2]/div[2]/div/div/div/a/div[2]/div[1]/div[1]')\n",
    "iphone.click()"
   ]
  },
  {
   "cell_type": "code",
   "execution_count": 461,
   "id": "5bd974a8",
   "metadata": {},
   "outputs": [],
   "source": [
    "# Reviews page\n",
    "driver.get('https://www.flipkart.com/apple-iphone-11-white-64-gb/p/itmfc6a7091eb20b?pid=MOBFWQ6BVWVEH3XE&lid=LSTMOBFWQ6BVWVEH3XEMXQMLO&marketplace=FLIPKART&q=iphone+11&store=tyy%2F4io&srno=s_1_1&otracker=search&otracker1=search&fm=organic&iid=50d2a70c-473b-4323-aca1-89983dc24062.MOBFWQ6BVWVEH3XE.SEARCH&ppt=hp&ppn=homepage&ssid=2g3w5rh7gg0000001660925543745&qH=f6cdfdaa9f3c23f3')"
   ]
  },
  {
   "cell_type": "code",
   "execution_count": 462,
   "id": "4e03dcb4",
   "metadata": {},
   "outputs": [],
   "source": [
    "reviews_page=driver.find_element(By.XPATH,'/html/body/div[1]/div/div[3]/div[1]/div[2]/div[9]/div[6]/div/a/div/span')\n",
    "reviews_page.click()"
   ]
  },
  {
   "cell_type": "code",
   "execution_count": 463,
   "id": "07ea75f4",
   "metadata": {},
   "outputs": [],
   "source": [
    "rating=[]\n",
    "\n",
    "start=0\n",
    "end=10\n",
    "for page in range(start,end):\n",
    "    star_rating=driver.find_elements(By.XPATH,'//div[@class=\"_3LWZlK _1BLPMq\"]')\n",
    "    for i in star_rating:\n",
    "        A=i.text\n",
    "        rating.append(A)\n",
    "    next_button=driver.find_element(By.XPATH,'//a[@class=\"_1LKTO3\"]//span')\n",
    "    next_button.click() \n",
    "    time.sleep(3)"
   ]
  },
  {
   "cell_type": "code",
   "execution_count": 464,
   "id": "06b0c502",
   "metadata": {},
   "outputs": [
    {
     "data": {
      "text/plain": [
       "100"
      ]
     },
     "execution_count": 464,
     "metadata": {},
     "output_type": "execute_result"
    }
   ],
   "source": [
    "len(rating)"
   ]
  },
  {
   "cell_type": "code",
   "execution_count": 465,
   "id": "bd154fd8",
   "metadata": {},
   "outputs": [],
   "source": [
    "review_summary=[]\n",
    "\n",
    "start=0\n",
    "end=10\n",
    "for page in range(start,end):\n",
    "    reviews=driver.find_elements(By.XPATH,'//p[@class=\"_2-N8zT\"]')\n",
    "    for i in reviews:\n",
    "        A=i.text\n",
    "        review_summary.append(A)\n",
    "    next_button=driver.find_element(By.XPATH,'//a[@class=\"_1LKTO3\"]//span')\n",
    "    next_button.click() \n",
    "    time.sleep(3)"
   ]
  },
  {
   "cell_type": "code",
   "execution_count": 466,
   "id": "e467197c",
   "metadata": {},
   "outputs": [
    {
     "data": {
      "text/plain": [
       "100"
      ]
     },
     "execution_count": 466,
     "metadata": {},
     "output_type": "execute_result"
    }
   ],
   "source": [
    "len(review_summary)"
   ]
  },
  {
   "cell_type": "code",
   "execution_count": 467,
   "id": "94ca6dae",
   "metadata": {},
   "outputs": [],
   "source": [
    "full_review=[]\n",
    "\n",
    "start=0\n",
    "end=10\n",
    "for page in range(start,end):\n",
    "    fullreview=driver.find_elements(By.XPATH,'//div[@class=\"t-ZTKy\"]')\n",
    "    for i in fullreview:\n",
    "        A=i.text\n",
    "        full_review.append(A)\n",
    "    next_button=driver.find_element(By.XPATH,'//a[@class=\"_1LKTO3\"]//span')\n",
    "    next_button.click() \n",
    "    time.sleep(3)"
   ]
  },
  {
   "cell_type": "code",
   "execution_count": 468,
   "id": "c40aba29",
   "metadata": {},
   "outputs": [
    {
     "data": {
      "text/plain": [
       "100"
      ]
     },
     "execution_count": 468,
     "metadata": {},
     "output_type": "execute_result"
    }
   ],
   "source": [
    "len(full_review)"
   ]
  },
  {
   "cell_type": "code",
   "execution_count": 469,
   "id": "e0efc4ce",
   "metadata": {},
   "outputs": [
    {
     "data": {
      "text/html": [
       "<div>\n",
       "<style scoped>\n",
       "    .dataframe tbody tr th:only-of-type {\n",
       "        vertical-align: middle;\n",
       "    }\n",
       "\n",
       "    .dataframe tbody tr th {\n",
       "        vertical-align: top;\n",
       "    }\n",
       "\n",
       "    .dataframe thead th {\n",
       "        text-align: right;\n",
       "    }\n",
       "</style>\n",
       "<table border=\"1\" class=\"dataframe\">\n",
       "  <thead>\n",
       "    <tr style=\"text-align: right;\">\n",
       "      <th></th>\n",
       "      <th>Rating</th>\n",
       "      <th>Review summary</th>\n",
       "      <th>Full review</th>\n",
       "    </tr>\n",
       "  </thead>\n",
       "  <tbody>\n",
       "    <tr>\n",
       "      <th>0</th>\n",
       "      <td>5</td>\n",
       "      <td>Simply awesome</td>\n",
       "      <td>Really satisfied with the Product I received.....</td>\n",
       "    </tr>\n",
       "    <tr>\n",
       "      <th>1</th>\n",
       "      <td>5</td>\n",
       "      <td>Perfect product!</td>\n",
       "      <td>Amazing phone with great cameras and better ba...</td>\n",
       "    </tr>\n",
       "    <tr>\n",
       "      <th>2</th>\n",
       "      <td>5</td>\n",
       "      <td>Best in the market!</td>\n",
       "      <td>Great iPhone very snappy experience as apple k...</td>\n",
       "    </tr>\n",
       "    <tr>\n",
       "      <th>3</th>\n",
       "      <td>5</td>\n",
       "      <td>Highly recommended</td>\n",
       "      <td>What a camera .....just awesome ..you can feel...</td>\n",
       "    </tr>\n",
       "    <tr>\n",
       "      <th>4</th>\n",
       "      <td>5</td>\n",
       "      <td>Worth every penny</td>\n",
       "      <td>Previously I was using one plus 3t it was a gr...</td>\n",
       "    </tr>\n",
       "    <tr>\n",
       "      <th>...</th>\n",
       "      <td>...</td>\n",
       "      <td>...</td>\n",
       "      <td>...</td>\n",
       "    </tr>\n",
       "    <tr>\n",
       "      <th>95</th>\n",
       "      <td>5</td>\n",
       "      <td>Perfect product!</td>\n",
       "      <td>Iphone is just awesome.. battery backup is ver...</td>\n",
       "    </tr>\n",
       "    <tr>\n",
       "      <th>96</th>\n",
       "      <td>5</td>\n",
       "      <td>Terrific</td>\n",
       "      <td>Really worth of money. i just love it. It is t...</td>\n",
       "    </tr>\n",
       "    <tr>\n",
       "      <th>97</th>\n",
       "      <td>5</td>\n",
       "      <td>Wonderful</td>\n",
       "      <td>This is my first ever I phone. Before this I w...</td>\n",
       "    </tr>\n",
       "    <tr>\n",
       "      <th>98</th>\n",
       "      <td>5</td>\n",
       "      <td>Worth every penny</td>\n",
       "      <td>Best budget Iphone till date ❤️ go for it guys...</td>\n",
       "    </tr>\n",
       "    <tr>\n",
       "      <th>99</th>\n",
       "      <td>5</td>\n",
       "      <td>Simply awesome</td>\n",
       "      <td>Excellent camera, good performance, no lag. Th...</td>\n",
       "    </tr>\n",
       "  </tbody>\n",
       "</table>\n",
       "<p>100 rows × 3 columns</p>\n",
       "</div>"
      ],
      "text/plain": [
       "   Rating       Review summary  \\\n",
       "0       5       Simply awesome   \n",
       "1       5     Perfect product!   \n",
       "2       5  Best in the market!   \n",
       "3       5   Highly recommended   \n",
       "4       5    Worth every penny   \n",
       "..    ...                  ...   \n",
       "95      5     Perfect product!   \n",
       "96      5             Terrific   \n",
       "97      5            Wonderful   \n",
       "98      5    Worth every penny   \n",
       "99      5       Simply awesome   \n",
       "\n",
       "                                          Full review  \n",
       "0   Really satisfied with the Product I received.....  \n",
       "1   Amazing phone with great cameras and better ba...  \n",
       "2   Great iPhone very snappy experience as apple k...  \n",
       "3   What a camera .....just awesome ..you can feel...  \n",
       "4   Previously I was using one plus 3t it was a gr...  \n",
       "..                                                ...  \n",
       "95  Iphone is just awesome.. battery backup is ver...  \n",
       "96  Really worth of money. i just love it. It is t...  \n",
       "97  This is my first ever I phone. Before this I w...  \n",
       "98  Best budget Iphone till date ❤️ go for it guys...  \n",
       "99  Excellent camera, good performance, no lag. Th...  \n",
       "\n",
       "[100 rows x 3 columns]"
      ]
     },
     "execution_count": 469,
     "metadata": {},
     "output_type": "execute_result"
    }
   ],
   "source": [
    "DF=pd.DataFrame({'Rating':rating,'Review summary':review_summary,'Full review':full_review})\n",
    "DF"
   ]
  },
  {
   "cell_type": "markdown",
   "id": "325a6bae",
   "metadata": {},
   "source": [
    "Q6: Scrape data for first 100 sneakers you find when you visit flipkart.com and search for “sneakers” in the\n",
    "search field."
   ]
  },
  {
   "cell_type": "code",
   "execution_count": 262,
   "id": "adf26618",
   "metadata": {},
   "outputs": [],
   "source": [
    "driver=webdriver.Chrome(r'C:\\Users\\ashud\\Desktop\\FLIP ROBO INTERNSHIP\\chromedriver_win32\\chromedriver.exe')"
   ]
  },
  {
   "cell_type": "code",
   "execution_count": 263,
   "id": "b4d5ac58",
   "metadata": {},
   "outputs": [],
   "source": [
    "driver.get('https://www.flipkart.com/')"
   ]
  },
  {
   "cell_type": "code",
   "execution_count": 264,
   "id": "be6191fd",
   "metadata": {},
   "outputs": [],
   "source": [
    "product=driver.find_element(By.CLASS_NAME,'_3704LK')\n",
    "product.send_keys('sneakers')"
   ]
  },
  {
   "cell_type": "code",
   "execution_count": 265,
   "id": "80492f7e",
   "metadata": {},
   "outputs": [],
   "source": [
    "search=driver.find_element(By.CLASS_NAME,'L0Z3Pu')\n",
    "search.click()"
   ]
  },
  {
   "cell_type": "code",
   "execution_count": 266,
   "id": "4d5012e7",
   "metadata": {},
   "outputs": [
    {
     "data": {
      "text/plain": [
       "120"
      ]
     },
     "execution_count": 266,
     "metadata": {},
     "output_type": "execute_result"
    }
   ],
   "source": [
    "brand_name=[]\n",
    "\n",
    "start=0\n",
    "end=3\n",
    "for page in range(start,end):\n",
    "    brand_tags=driver.find_elements(By.XPATH,'//div[@class=\"_2WkVRV\"]')\n",
    "    for i in brand_tags:\n",
    "        brand=i.text\n",
    "        brand_name.append(brand)\n",
    "    next_page=driver.find_element(By.XPATH,'//span[contains(text(),\"Next\")]')    # or XPATH : //span[text()=\"Next\"]\n",
    "    next_page.click()\n",
    "    time.sleep(3)\n",
    "len(brand_name)\n"
   ]
  },
  {
   "cell_type": "code",
   "execution_count": 268,
   "id": "bb450292",
   "metadata": {},
   "outputs": [],
   "source": [
    "page01=driver.find_element(By.XPATH,'//a[@class=\"ge-49M\" and text()=\"1\"]')\n",
    "page01.click()"
   ]
  },
  {
   "cell_type": "code",
   "execution_count": 269,
   "id": "e570bc38",
   "metadata": {},
   "outputs": [],
   "source": [
    "product_description=[]\n",
    "\n",
    "start=0\n",
    "end=3\n",
    "for page in range(start,end):\n",
    "    description_tags=driver.find_elements(By.XPATH,'//a[@class=\"IRpwTa\"]')\n",
    "    for i in description_tags:\n",
    "        description=i.text\n",
    "        product_description.append(description)\n",
    "    next_page=driver.find_element(By.XPATH,'//span[contains(text(),\"Next\")]')\n",
    "    next_page.click()\n",
    "    time.sleep(3)"
   ]
  },
  {
   "cell_type": "code",
   "execution_count": 271,
   "id": "7867348a",
   "metadata": {},
   "outputs": [
    {
     "data": {
      "text/plain": [
       "110"
      ]
     },
     "execution_count": 271,
     "metadata": {},
     "output_type": "execute_result"
    }
   ],
   "source": [
    "len(product_description)"
   ]
  },
  {
   "cell_type": "code",
   "execution_count": 272,
   "id": "5ba3b46b",
   "metadata": {},
   "outputs": [],
   "source": [
    "page01=driver.find_element(By.XPATH,'//a[@class=\"ge-49M\" and text()=\"1\"]')\n",
    "page01.click()"
   ]
  },
  {
   "cell_type": "code",
   "execution_count": 273,
   "id": "9fa593d5",
   "metadata": {},
   "outputs": [],
   "source": [
    "price=[]\n",
    "\n",
    "start=0\n",
    "end=3\n",
    "\n",
    "for page in range(start,end):\n",
    "    price_tags=driver.find_elements(By.XPATH,'//div[@class=\"_30jeq3\"]')\n",
    "    for i in price_tags:\n",
    "        ptag=i.text\n",
    "        price.append(ptag)\n",
    "    next_page=driver.find_element(By.XPATH,'//span[contains(text(),\"Next\")]')\n",
    "    next_page.click()\n",
    "    time.sleep(3)"
   ]
  },
  {
   "cell_type": "code",
   "execution_count": 274,
   "id": "2a0fd7ae",
   "metadata": {},
   "outputs": [
    {
     "data": {
      "text/plain": [
       "120"
      ]
     },
     "execution_count": 274,
     "metadata": {},
     "output_type": "execute_result"
    }
   ],
   "source": [
    "len(price)"
   ]
  },
  {
   "cell_type": "code",
   "execution_count": 275,
   "id": "fa36f6b3",
   "metadata": {},
   "outputs": [],
   "source": [
    "page01=driver.find_element(By.XPATH,'//a[@class=\"ge-49M\" and text()=\"1\"]')\n",
    "page01.click()"
   ]
  },
  {
   "cell_type": "code",
   "execution_count": 276,
   "id": "3e3ce0c8",
   "metadata": {},
   "outputs": [],
   "source": [
    "discount=[]\n",
    "\n",
    "for page in range(start,end):\n",
    "    discount_tags=driver.find_elements(By.XPATH,'//div[@class=\"_3Ay6Sb\"]')\n",
    "    for i in discount_tags:\n",
    "        distag=i.text\n",
    "        discount.append(distag)\n",
    "    next_page=driver.find_element(By.XPATH,'//span[contains(text(),\"Next\")]')\n",
    "    next_page.click()\n",
    "    time.sleep(3)"
   ]
  },
  {
   "cell_type": "code",
   "execution_count": 277,
   "id": "d366bd74",
   "metadata": {},
   "outputs": [
    {
     "data": {
      "text/plain": [
       "120"
      ]
     },
     "execution_count": 277,
     "metadata": {},
     "output_type": "execute_result"
    }
   ],
   "source": [
    "len(discount)"
   ]
  },
  {
   "cell_type": "code",
   "execution_count": 281,
   "id": "b7daf470",
   "metadata": {},
   "outputs": [],
   "source": [
    "brand_name=brand_name[:100]\n",
    "product_description=product_description[:100]\n",
    "price=price[:100]\n",
    "discount=discount[:100]"
   ]
  },
  {
   "cell_type": "code",
   "execution_count": 282,
   "id": "01c38d35",
   "metadata": {},
   "outputs": [
    {
     "data": {
      "text/html": [
       "<div>\n",
       "<style scoped>\n",
       "    .dataframe tbody tr th:only-of-type {\n",
       "        vertical-align: middle;\n",
       "    }\n",
       "\n",
       "    .dataframe tbody tr th {\n",
       "        vertical-align: top;\n",
       "    }\n",
       "\n",
       "    .dataframe thead th {\n",
       "        text-align: right;\n",
       "    }\n",
       "</style>\n",
       "<table border=\"1\" class=\"dataframe\">\n",
       "  <thead>\n",
       "    <tr style=\"text-align: right;\">\n",
       "      <th></th>\n",
       "      <th>Brand</th>\n",
       "      <th>Product Description</th>\n",
       "      <th>Price</th>\n",
       "      <th>Discount</th>\n",
       "    </tr>\n",
       "  </thead>\n",
       "  <tbody>\n",
       "    <tr>\n",
       "      <th>0</th>\n",
       "      <td>BRUTON</td>\n",
       "      <td>2 Combo Sneaker Shoes Sneakers For Men</td>\n",
       "      <td>₹1,413</td>\n",
       "      <td>61% off</td>\n",
       "    </tr>\n",
       "    <tr>\n",
       "      <th>1</th>\n",
       "      <td>BRUTON</td>\n",
       "      <td>2 Combo Sneaker Shoes Sneakers For Men</td>\n",
       "      <td>₹2,217</td>\n",
       "      <td>59% off</td>\n",
       "    </tr>\n",
       "    <tr>\n",
       "      <th>2</th>\n",
       "      <td>DUCATI</td>\n",
       "      <td>Sneakers For Men</td>\n",
       "      <td>₹374</td>\n",
       "      <td>62% off</td>\n",
       "    </tr>\n",
       "    <tr>\n",
       "      <th>3</th>\n",
       "      <td>PUMA</td>\n",
       "      <td>Rebound JOY Sneakers For Men</td>\n",
       "      <td>₹499</td>\n",
       "      <td>50% off</td>\n",
       "    </tr>\n",
       "    <tr>\n",
       "      <th>4</th>\n",
       "      <td>Magnolia</td>\n",
       "      <td>Sneakers For Men</td>\n",
       "      <td>₹345</td>\n",
       "      <td>65% off</td>\n",
       "    </tr>\n",
       "    <tr>\n",
       "      <th>...</th>\n",
       "      <td>...</td>\n",
       "      <td>...</td>\n",
       "      <td>...</td>\n",
       "      <td>...</td>\n",
       "    </tr>\n",
       "    <tr>\n",
       "      <th>95</th>\n",
       "      <td>PUMA</td>\n",
       "      <td>Casual Sneakers Canvas Shoes For Men Sneakers ...</td>\n",
       "      <td>₹2,304</td>\n",
       "      <td>76% off</td>\n",
       "    </tr>\n",
       "    <tr>\n",
       "      <th>96</th>\n",
       "      <td>Qitty</td>\n",
       "      <td>Puma Smash v2 Sneakers For Men</td>\n",
       "      <td>₹1,499</td>\n",
       "      <td>74% off</td>\n",
       "    </tr>\n",
       "    <tr>\n",
       "      <th>97</th>\n",
       "      <td>ROCKFIELD</td>\n",
       "      <td>Cilia Sneakers For Women</td>\n",
       "      <td>₹469</td>\n",
       "      <td>62% off</td>\n",
       "    </tr>\n",
       "    <tr>\n",
       "      <th>98</th>\n",
       "      <td>PUMA</td>\n",
       "      <td>PANAL Sneakers For Men</td>\n",
       "      <td>₹2,750</td>\n",
       "      <td>57% off</td>\n",
       "    </tr>\n",
       "    <tr>\n",
       "      <th>99</th>\n",
       "      <td>PREKANZO</td>\n",
       "      <td>Club Zone Sneakers For Men</td>\n",
       "      <td>₹499</td>\n",
       "      <td>40% off</td>\n",
       "    </tr>\n",
       "  </tbody>\n",
       "</table>\n",
       "<p>100 rows × 4 columns</p>\n",
       "</div>"
      ],
      "text/plain": [
       "        Brand                                Product Description   Price  \\\n",
       "0      BRUTON             2 Combo Sneaker Shoes Sneakers For Men  ₹1,413   \n",
       "1      BRUTON             2 Combo Sneaker Shoes Sneakers For Men  ₹2,217   \n",
       "2      DUCATI                                   Sneakers For Men    ₹374   \n",
       "3        PUMA                       Rebound JOY Sneakers For Men    ₹499   \n",
       "4    Magnolia                                   Sneakers For Men    ₹345   \n",
       "..        ...                                                ...     ...   \n",
       "95       PUMA  Casual Sneakers Canvas Shoes For Men Sneakers ...  ₹2,304   \n",
       "96      Qitty                     Puma Smash v2 Sneakers For Men  ₹1,499   \n",
       "97  ROCKFIELD                           Cilia Sneakers For Women    ₹469   \n",
       "98       PUMA                             PANAL Sneakers For Men  ₹2,750   \n",
       "99   PREKANZO                         Club Zone Sneakers For Men    ₹499   \n",
       "\n",
       "   Discount  \n",
       "0   61% off  \n",
       "1   59% off  \n",
       "2   62% off  \n",
       "3   50% off  \n",
       "4   65% off  \n",
       "..      ...  \n",
       "95  76% off  \n",
       "96  74% off  \n",
       "97  62% off  \n",
       "98  57% off  \n",
       "99  40% off  \n",
       "\n",
       "[100 rows x 4 columns]"
      ]
     },
     "execution_count": 282,
     "metadata": {},
     "output_type": "execute_result"
    }
   ],
   "source": [
    "DF=pd.DataFrame({'Brand':brand_name,'Product Description':product_description,'Price':price,'Discount':discount})\n",
    "DF.head(100)"
   ]
  },
  {
   "cell_type": "markdown",
   "id": "d1703da9",
   "metadata": {},
   "source": [
    "Q7: Go to the link - https://www.myntra.com/shoes\n",
    "Set second Price filter and Color filter to “Black”, as shown in the below image."
   ]
  },
  {
   "cell_type": "code",
   "execution_count": 421,
   "id": "a232e9c4",
   "metadata": {},
   "outputs": [],
   "source": [
    "driver=webdriver.Chrome(r'C:\\Users\\ashud\\Desktop\\FLIP ROBO INTERNSHIP\\chromedriver_win32\\chromedriver.exe')"
   ]
  },
  {
   "cell_type": "code",
   "execution_count": 422,
   "id": "5cd4c25d",
   "metadata": {},
   "outputs": [],
   "source": [
    "driver.get('https://www.myntra.com/shoes')"
   ]
  },
  {
   "cell_type": "code",
   "execution_count": 425,
   "id": "76b4f650",
   "metadata": {},
   "outputs": [],
   "source": [
    "price_filter=driver.find_element(By.XPATH,'/html/body/div[2]/div/div[1]/main/div[3]/div[1]/section/div/div[5]/ul/li[2]/label')\n",
    "price_filter.click()"
   ]
  },
  {
   "cell_type": "code",
   "execution_count": 424,
   "id": "171d7cbf",
   "metadata": {},
   "outputs": [],
   "source": [
    "color_filter=driver.find_element(By.XPATH,'//li[@class=\"colour-listItem\"]')\n",
    "color_filter.click()"
   ]
  },
  {
   "cell_type": "code",
   "execution_count": 452,
   "id": "66461744",
   "metadata": {},
   "outputs": [],
   "source": [
    "brand=[]\n",
    "Shoe_description=[]\n",
    "price=[]\n",
    "\n",
    "start=0\n",
    "end=2\n",
    "for page in range(start,end):\n",
    "    brand_tags=driver.find_elements(By.XPATH,'//h3[@class=\"product-brand\"]')\n",
    "    description_tags=driver.find_elements(By.XPATH,'//h4[@class=\"product-product\"]')\n",
    "    price_tags=driver.find_elements(By.XPATH,'//div[@class=\"product-price\"]')\n",
    "    for i in range(len(brand_tags)):\n",
    "        X=brand_tags[i].text\n",
    "        Y=description_tags[i].text\n",
    "        Z=' '.join(price_tags[i].text.split()[:2])\n",
    "        if Z.endswith(\"Rs.\"):\n",
    "            Z=Z[:-3]\n",
    "        brand.append(X)\n",
    "        Shoe_description.append(Y)\n",
    "        price.append(Z)\n",
    "    next_page=driver.find_element(By.XPATH,'//li[@class=\"pagination-next\"]')\n",
    "    next_page.click()\n",
    "    time.sleep(3)"
   ]
  },
  {
   "cell_type": "code",
   "execution_count": 430,
   "id": "bb997aea",
   "metadata": {},
   "outputs": [
    {
     "name": "stdout",
     "output_type": "stream",
     "text": [
      "100 100 100\n"
     ]
    }
   ],
   "source": [
    "print(len(brand),len(Shoe_description),len(price))"
   ]
  },
  {
   "cell_type": "code",
   "execution_count": 454,
   "id": "bc06da1a",
   "metadata": {},
   "outputs": [
    {
     "data": {
      "text/html": [
       "<div>\n",
       "<style scoped>\n",
       "    .dataframe tbody tr th:only-of-type {\n",
       "        vertical-align: middle;\n",
       "    }\n",
       "\n",
       "    .dataframe tbody tr th {\n",
       "        vertical-align: top;\n",
       "    }\n",
       "\n",
       "    .dataframe thead th {\n",
       "        text-align: right;\n",
       "    }\n",
       "</style>\n",
       "<table border=\"1\" class=\"dataframe\">\n",
       "  <thead>\n",
       "    <tr style=\"text-align: right;\">\n",
       "      <th></th>\n",
       "      <th>Brand</th>\n",
       "      <th>Shoe Description</th>\n",
       "      <th>Price</th>\n",
       "    </tr>\n",
       "  </thead>\n",
       "  <tbody>\n",
       "    <tr>\n",
       "      <th>0</th>\n",
       "      <td>Red Tape</td>\n",
       "      <td>Men Walking Shoes</td>\n",
       "      <td>Rs. 1649</td>\n",
       "    </tr>\n",
       "    <tr>\n",
       "      <th>1</th>\n",
       "      <td>Nike</td>\n",
       "      <td>Men Ebernon Low Sneakers</td>\n",
       "      <td>Rs. 4555</td>\n",
       "    </tr>\n",
       "    <tr>\n",
       "      <th>2</th>\n",
       "      <td>U.S. Polo Assn.</td>\n",
       "      <td>Men Running Shoes</td>\n",
       "      <td>Rs. 2879</td>\n",
       "    </tr>\n",
       "    <tr>\n",
       "      <th>3</th>\n",
       "      <td>Sparx</td>\n",
       "      <td>Men Running Shoes</td>\n",
       "      <td>Rs. 1111</td>\n",
       "    </tr>\n",
       "    <tr>\n",
       "      <th>4</th>\n",
       "      <td>Denill</td>\n",
       "      <td>Pointed Toe Block Pumps</td>\n",
       "      <td>Rs. 599</td>\n",
       "    </tr>\n",
       "    <tr>\n",
       "      <th>...</th>\n",
       "      <td>...</td>\n",
       "      <td>...</td>\n",
       "      <td>...</td>\n",
       "    </tr>\n",
       "    <tr>\n",
       "      <th>95</th>\n",
       "      <td>Red Tape</td>\n",
       "      <td>Men Solid Formal Loafers</td>\n",
       "      <td>Rs. 1799</td>\n",
       "    </tr>\n",
       "    <tr>\n",
       "      <th>96</th>\n",
       "      <td>U.S. Polo Assn.</td>\n",
       "      <td>Men Sneakers</td>\n",
       "      <td>Rs. 2039</td>\n",
       "    </tr>\n",
       "    <tr>\n",
       "      <th>97</th>\n",
       "      <td>Nike</td>\n",
       "      <td>Air Max Axis Sneakers</td>\n",
       "      <td>Rs. 8355</td>\n",
       "    </tr>\n",
       "    <tr>\n",
       "      <th>98</th>\n",
       "      <td>Marc Loire</td>\n",
       "      <td>Women Pumps</td>\n",
       "      <td>Rs. 983</td>\n",
       "    </tr>\n",
       "    <tr>\n",
       "      <th>99</th>\n",
       "      <td>U.S. Polo Assn.</td>\n",
       "      <td>Men PU Loafers</td>\n",
       "      <td>Rs. 2079</td>\n",
       "    </tr>\n",
       "  </tbody>\n",
       "</table>\n",
       "<p>100 rows × 3 columns</p>\n",
       "</div>"
      ],
      "text/plain": [
       "              Brand          Shoe Description     Price\n",
       "0          Red Tape         Men Walking Shoes  Rs. 1649\n",
       "1              Nike  Men Ebernon Low Sneakers  Rs. 4555\n",
       "2   U.S. Polo Assn.         Men Running Shoes  Rs. 2879\n",
       "3             Sparx         Men Running Shoes  Rs. 1111\n",
       "4            Denill   Pointed Toe Block Pumps   Rs. 599\n",
       "..              ...                       ...       ...\n",
       "95         Red Tape  Men Solid Formal Loafers  Rs. 1799\n",
       "96  U.S. Polo Assn.              Men Sneakers  Rs. 2039\n",
       "97             Nike     Air Max Axis Sneakers  Rs. 8355\n",
       "98       Marc Loire               Women Pumps   Rs. 983\n",
       "99  U.S. Polo Assn.            Men PU Loafers  Rs. 2079\n",
       "\n",
       "[100 rows x 3 columns]"
      ]
     },
     "execution_count": 454,
     "metadata": {},
     "output_type": "execute_result"
    }
   ],
   "source": [
    "DF=pd.DataFrame({'Brand':brand,'Shoe Description':Shoe_description,'Price':price})\n",
    "DF"
   ]
  },
  {
   "cell_type": "markdown",
   "id": "d57d57c6",
   "metadata": {},
   "source": [
    "Q8: Go to webpage https://www.amazon.in/\n",
    "Enter “Laptop” in the search field and then click the search icon."
   ]
  },
  {
   "cell_type": "code",
   "execution_count": 283,
   "id": "d16cd697",
   "metadata": {},
   "outputs": [],
   "source": [
    "driver=webdriver.Chrome(r'C:\\Users\\ashud\\Desktop\\FLIP ROBO INTERNSHIP\\chromedriver_win32\\chromedriver.exe')"
   ]
  },
  {
   "cell_type": "code",
   "execution_count": 284,
   "id": "106e5abe",
   "metadata": {},
   "outputs": [],
   "source": [
    "driver.get('https://www.amazon.in/')"
   ]
  },
  {
   "cell_type": "code",
   "execution_count": 285,
   "id": "ae82bca0",
   "metadata": {},
   "outputs": [],
   "source": [
    "product=driver.find_element(By.XPATH,'//input[@type=\"text\"]')\n",
    "product.send_keys('Laptop')"
   ]
  },
  {
   "cell_type": "code",
   "execution_count": 286,
   "id": "d240b188",
   "metadata": {},
   "outputs": [],
   "source": [
    "search=driver.find_element(By.XPATH,'//input[@id=\"nav-search-submit-button\"]')\n",
    "search.click()"
   ]
  },
  {
   "cell_type": "code",
   "execution_count": 287,
   "id": "187af4f6",
   "metadata": {},
   "outputs": [],
   "source": [
    "filtertag=driver.find_element(By.XPATH,'//span[contains(text(),\"Intel Core i7\")]')\n",
    "filtertag.click()"
   ]
  },
  {
   "cell_type": "code",
   "execution_count": 289,
   "id": "70176c27",
   "metadata": {},
   "outputs": [],
   "source": [
    "title=[]\n",
    "\n",
    "title_tags=driver.find_elements(By.XPATH,'//h2[@class=\"a-size-mini a-spacing-none a-color-base s-line-clamp-2\"]')\n",
    "for i in title_tags[0:10]:\n",
    "    A=i.text\n",
    "    title.append(A)\n"
   ]
  },
  {
   "cell_type": "code",
   "execution_count": 291,
   "id": "ab4bf3c3",
   "metadata": {},
   "outputs": [
    {
     "data": {
      "text/plain": [
       "10"
      ]
     },
     "execution_count": 291,
     "metadata": {},
     "output_type": "execute_result"
    }
   ],
   "source": [
    "len(title)"
   ]
  },
  {
   "cell_type": "code",
   "execution_count": 307,
   "id": "d272d9ab",
   "metadata": {},
   "outputs": [],
   "source": [
    "rating=[]\n",
    "\n",
    "Rating_tag=driver.find_elements(By.XPATH,'//span[@class=\"a-size-base s-underline-text\"]')\n",
    "for i in Rating_tag[0:10]:\n",
    "    A=i.text\n",
    "    rating.append(A)"
   ]
  },
  {
   "cell_type": "code",
   "execution_count": 309,
   "id": "533e81ff",
   "metadata": {},
   "outputs": [
    {
     "data": {
      "text/plain": [
       "10"
      ]
     },
     "execution_count": 309,
     "metadata": {},
     "output_type": "execute_result"
    }
   ],
   "source": [
    "len(rating)"
   ]
  },
  {
   "cell_type": "code",
   "execution_count": 302,
   "id": "85da1b6b",
   "metadata": {},
   "outputs": [],
   "source": [
    "price=[]\n",
    "\n",
    "price_tag=driver.find_elements(By.XPATH,'//span[@class=\"a-price-whole\"]')\n",
    "for i in price_tag[0:10]:\n",
    "    A=i.text\n",
    "    price.append(A)"
   ]
  },
  {
   "cell_type": "code",
   "execution_count": 304,
   "id": "79ac47d1",
   "metadata": {},
   "outputs": [
    {
     "data": {
      "text/plain": [
       "10"
      ]
     },
     "execution_count": 304,
     "metadata": {},
     "output_type": "execute_result"
    }
   ],
   "source": [
    "len(price)"
   ]
  },
  {
   "cell_type": "code",
   "execution_count": 420,
   "id": "1c5b4304",
   "metadata": {},
   "outputs": [
    {
     "data": {
      "text/html": [
       "<div>\n",
       "<style scoped>\n",
       "    .dataframe tbody tr th:only-of-type {\n",
       "        vertical-align: middle;\n",
       "    }\n",
       "\n",
       "    .dataframe tbody tr th {\n",
       "        vertical-align: top;\n",
       "    }\n",
       "\n",
       "    .dataframe thead th {\n",
       "        text-align: right;\n",
       "    }\n",
       "</style>\n",
       "<table border=\"1\" class=\"dataframe\">\n",
       "  <thead>\n",
       "    <tr style=\"text-align: right;\">\n",
       "      <th></th>\n",
       "      <th>Title</th>\n",
       "      <th>Rating</th>\n",
       "      <th>Price</th>\n",
       "    </tr>\n",
       "  </thead>\n",
       "  <tbody>\n",
       "    <tr>\n",
       "      <th>0</th>\n",
       "      <td>Lenovo Ideapad Gaming 3 Intel Core i7 10th Gen...</td>\n",
       "      <td>4.3</td>\n",
       "      <td>62,990</td>\n",
       "    </tr>\n",
       "    <tr>\n",
       "      <th>1</th>\n",
       "      <td>ASUS Vivobook 15, 15.6-inch (39.62 cms) FHD, I...</td>\n",
       "      <td>4.0</td>\n",
       "      <td>57,990</td>\n",
       "    </tr>\n",
       "    <tr>\n",
       "      <th>2</th>\n",
       "      <td>Samsung Galaxy Book2 Intel 12th Gen core i7 39...</td>\n",
       "      <td>4.0</td>\n",
       "      <td>79,490</td>\n",
       "    </tr>\n",
       "    <tr>\n",
       "      <th>3</th>\n",
       "      <td>Hp Pavilion X360 11Th Gen Intel Core I7 14 Inc...</td>\n",
       "      <td>4.3</td>\n",
       "      <td>82,990</td>\n",
       "    </tr>\n",
       "    <tr>\n",
       "      <th>4</th>\n",
       "      <td>HP Pavilion 14 12th Gen Intel Core i7 16GB SDR...</td>\n",
       "      <td>4.0</td>\n",
       "      <td>87,990</td>\n",
       "    </tr>\n",
       "    <tr>\n",
       "      <th>5</th>\n",
       "      <td>Lenovo ThinkBook 15 Intel 11th Gen Core i7 15....</td>\n",
       "      <td>4.1</td>\n",
       "      <td>80,990</td>\n",
       "    </tr>\n",
       "    <tr>\n",
       "      <th>6</th>\n",
       "      <td>Acer Nitro 5 Gaming Laptop/12th Gen Intel Core...</td>\n",
       "      <td>4.1</td>\n",
       "      <td>1,04,990</td>\n",
       "    </tr>\n",
       "    <tr>\n",
       "      <th>7</th>\n",
       "      <td>ASUS TUF Gaming F15 (2022), 15.6-inch (39.62 c...</td>\n",
       "      <td>4.3</td>\n",
       "      <td>1,09,990</td>\n",
       "    </tr>\n",
       "    <tr>\n",
       "      <th>8</th>\n",
       "      <td>HP Pavilion Plus, 12th Gen Intel Core i7 16GB ...</td>\n",
       "      <td>4.2</td>\n",
       "      <td>89,990</td>\n",
       "    </tr>\n",
       "    <tr>\n",
       "      <th>9</th>\n",
       "      <td>Fujitsu UH-X 11th Gen Intel Core i7 13.3” FHD ...</td>\n",
       "      <td>3.9</td>\n",
       "      <td>84,990</td>\n",
       "    </tr>\n",
       "  </tbody>\n",
       "</table>\n",
       "</div>"
      ],
      "text/plain": [
       "                                               Title Rating     Price\n",
       "0  Lenovo Ideapad Gaming 3 Intel Core i7 10th Gen...    4.3    62,990\n",
       "1  ASUS Vivobook 15, 15.6-inch (39.62 cms) FHD, I...    4.0    57,990\n",
       "2  Samsung Galaxy Book2 Intel 12th Gen core i7 39...    4.0    79,490\n",
       "3  Hp Pavilion X360 11Th Gen Intel Core I7 14 Inc...    4.3    82,990\n",
       "4  HP Pavilion 14 12th Gen Intel Core i7 16GB SDR...    4.0    87,990\n",
       "5  Lenovo ThinkBook 15 Intel 11th Gen Core i7 15....    4.1    80,990\n",
       "6  Acer Nitro 5 Gaming Laptop/12th Gen Intel Core...    4.1  1,04,990\n",
       "7  ASUS TUF Gaming F15 (2022), 15.6-inch (39.62 c...    4.3  1,09,990\n",
       "8  HP Pavilion Plus, 12th Gen Intel Core i7 16GB ...    4.2    89,990\n",
       "9  Fujitsu UH-X 11th Gen Intel Core i7 13.3” FHD ...    3.9    84,990"
      ]
     },
     "execution_count": 420,
     "metadata": {},
     "output_type": "execute_result"
    }
   ],
   "source": [
    "DF=pd.DataFrame({'Title':title,'Rating':rating,'Price':price})\n",
    "DF"
   ]
  },
  {
   "cell_type": "markdown",
   "id": "040daa2e",
   "metadata": {},
   "source": [
    "Q9: Write a python program to scrape data for first 10 job results for Data Scientist Designation in Noida\n",
    "location. You have to scrape company name, No. of days ago when job was posted, Rating of the company.\n",
    "This task will be done in following steps:\n",
    "1. First get the webpage https://www.ambitionbox.com/"
   ]
  },
  {
   "cell_type": "code",
   "execution_count": 339,
   "id": "53ebc671",
   "metadata": {},
   "outputs": [],
   "source": [
    "driver=webdriver.Chrome(r'C:\\Users\\ashud\\Desktop\\FLIP ROBO INTERNSHIP\\chromedriver_win32\\chromedriver.exe')"
   ]
  },
  {
   "cell_type": "code",
   "execution_count": 340,
   "id": "04982194",
   "metadata": {},
   "outputs": [],
   "source": [
    "driver.get('https://www.ambitionbox.com/')"
   ]
  },
  {
   "cell_type": "code",
   "execution_count": 341,
   "id": "2b312468",
   "metadata": {},
   "outputs": [],
   "source": [
    "job_page=driver.find_element(By.XPATH,'/html/body/div[1]/nav[2]/div/ul/li[5]/a')\n",
    "job_page.click()"
   ]
  },
  {
   "cell_type": "code",
   "execution_count": 342,
   "id": "7374d71a",
   "metadata": {},
   "outputs": [],
   "source": [
    "designation=driver.find_element(By.XPATH,'/html/body/div/div/div/div[2]/div[1]/div[1]/div/div/div/div/span/input')\n",
    "designation.send_keys('Data Scientist')"
   ]
  },
  {
   "cell_type": "code",
   "execution_count": 343,
   "id": "9b5323a8",
   "metadata": {},
   "outputs": [],
   "source": [
    "search=driver.find_element(By.XPATH,'/html/body/div/div/div/div[2]/div[1]/div[1]/div/div/div/button/span')\n",
    "search.click()"
   ]
  },
  {
   "cell_type": "code",
   "execution_count": 349,
   "id": "f2a47ca9",
   "metadata": {},
   "outputs": [],
   "source": [
    "location=driver.find_element(By.XPATH,'/html/body/div/div/div/div[2]/div[1]/div[2]/div[1]/div/div/div/div[2]/div[1]/p')\n",
    "location.click()"
   ]
  },
  {
   "cell_type": "code",
   "execution_count": 350,
   "id": "67fef3e3",
   "metadata": {},
   "outputs": [],
   "source": [
    "location_search=driver.find_element(By.XPATH,'/html/body/div/div/div/div[2]/div[1]/div[2]/div[1]/div/div/div/div[2]/div[2]/div/div[3]/div[1]/div[2]/div/label')\n",
    "location_search.click()"
   ]
  },
  {
   "cell_type": "code",
   "execution_count": 355,
   "id": "06097b7e",
   "metadata": {},
   "outputs": [],
   "source": [
    "company_name=[]\n",
    "\n",
    "company_tag=driver.find_elements(By.XPATH,'//p[@class=\"company body-medium\"]')\n",
    "for i in company_tag[0:10]:\n",
    "    A=i.text\n",
    "    company_name.append(A)"
   ]
  },
  {
   "cell_type": "code",
   "execution_count": 357,
   "id": "626f13c3",
   "metadata": {},
   "outputs": [
    {
     "data": {
      "text/plain": [
       "10"
      ]
     },
     "execution_count": 357,
     "metadata": {},
     "output_type": "execute_result"
    }
   ],
   "source": [
    "len(company_name)"
   ]
  },
  {
   "cell_type": "code",
   "execution_count": 358,
   "id": "4fe00684",
   "metadata": {},
   "outputs": [],
   "source": [
    "job_posted=[]\n",
    "\n",
    "Days_ago=driver.find_elements(By.XPATH,'//span[@class=\"body-small-l\" and contains(text(),\"ago\")]')\n",
    "for i in Days_ago[0:10]:\n",
    "    A=i.text\n",
    "    job_posted.append(A)"
   ]
  },
  {
   "cell_type": "code",
   "execution_count": 360,
   "id": "7f7092f5",
   "metadata": {},
   "outputs": [
    {
     "data": {
      "text/plain": [
       "10"
      ]
     },
     "execution_count": 360,
     "metadata": {},
     "output_type": "execute_result"
    }
   ],
   "source": [
    "len(job_posted)"
   ]
  },
  {
   "cell_type": "code",
   "execution_count": 361,
   "id": "da32e92b",
   "metadata": {},
   "outputs": [],
   "source": [
    "rating=[]\n",
    "\n",
    "rating_tag=driver.find_elements(By.XPATH,'//span[@class=\"body-small\"]')\n",
    "for i in rating_tag[0:10]:\n",
    "    A=i.text\n",
    "    rating.append(A)"
   ]
  },
  {
   "cell_type": "code",
   "execution_count": 363,
   "id": "d5aee8db",
   "metadata": {},
   "outputs": [
    {
     "data": {
      "text/plain": [
       "10"
      ]
     },
     "execution_count": 363,
     "metadata": {},
     "output_type": "execute_result"
    }
   ],
   "source": [
    "len(rating)"
   ]
  },
  {
   "cell_type": "code",
   "execution_count": 364,
   "id": "4966a244",
   "metadata": {},
   "outputs": [
    {
     "data": {
      "text/html": [
       "<div>\n",
       "<style scoped>\n",
       "    .dataframe tbody tr th:only-of-type {\n",
       "        vertical-align: middle;\n",
       "    }\n",
       "\n",
       "    .dataframe tbody tr th {\n",
       "        vertical-align: top;\n",
       "    }\n",
       "\n",
       "    .dataframe thead th {\n",
       "        text-align: right;\n",
       "    }\n",
       "</style>\n",
       "<table border=\"1\" class=\"dataframe\">\n",
       "  <thead>\n",
       "    <tr style=\"text-align: right;\">\n",
       "      <th></th>\n",
       "      <th>Company</th>\n",
       "      <th>job posted</th>\n",
       "      <th>Rating</th>\n",
       "    </tr>\n",
       "  </thead>\n",
       "  <tbody>\n",
       "    <tr>\n",
       "      <th>0</th>\n",
       "      <td>CBRE South Asia Pvt Ltd</td>\n",
       "      <td>10d ago</td>\n",
       "      <td>4.3</td>\n",
       "    </tr>\n",
       "    <tr>\n",
       "      <th>1</th>\n",
       "      <td>GENPACT India Private Limited</td>\n",
       "      <td>3d ago</td>\n",
       "      <td>4.0</td>\n",
       "    </tr>\n",
       "    <tr>\n",
       "      <th>2</th>\n",
       "      <td>Genpact</td>\n",
       "      <td>5d ago</td>\n",
       "      <td>4.0</td>\n",
       "    </tr>\n",
       "    <tr>\n",
       "      <th>3</th>\n",
       "      <td>Ericsson India Global Services Pvt. Ltd.</td>\n",
       "      <td>20d ago</td>\n",
       "      <td>4.3</td>\n",
       "    </tr>\n",
       "    <tr>\n",
       "      <th>4</th>\n",
       "      <td>GENPACT India Private Limited</td>\n",
       "      <td>13d ago</td>\n",
       "      <td>4.0</td>\n",
       "    </tr>\n",
       "    <tr>\n",
       "      <th>5</th>\n",
       "      <td>Optum Global Solutions (India) Private Limited</td>\n",
       "      <td>17d ago</td>\n",
       "      <td>4.1</td>\n",
       "    </tr>\n",
       "    <tr>\n",
       "      <th>6</th>\n",
       "      <td>Optum Global Solutions (India) Private Limited</td>\n",
       "      <td>18d ago</td>\n",
       "      <td>4.1</td>\n",
       "    </tr>\n",
       "    <tr>\n",
       "      <th>7</th>\n",
       "      <td>Ericsson India Global Services Pvt. Ltd.</td>\n",
       "      <td>30d ago</td>\n",
       "      <td>4.3</td>\n",
       "    </tr>\n",
       "    <tr>\n",
       "      <th>8</th>\n",
       "      <td>SOPRA STERIA INDIA LIMITED</td>\n",
       "      <td>19d ago</td>\n",
       "      <td>4.2</td>\n",
       "    </tr>\n",
       "    <tr>\n",
       "      <th>9</th>\n",
       "      <td>EXL Services.com ( I ) Pvt. Ltd.</td>\n",
       "      <td>19d ago</td>\n",
       "      <td>3.9</td>\n",
       "    </tr>\n",
       "  </tbody>\n",
       "</table>\n",
       "</div>"
      ],
      "text/plain": [
       "                                          Company job posted Rating\n",
       "0                         CBRE South Asia Pvt Ltd    10d ago    4.3\n",
       "1                   GENPACT India Private Limited     3d ago    4.0\n",
       "2                                         Genpact     5d ago    4.0\n",
       "3        Ericsson India Global Services Pvt. Ltd.    20d ago    4.3\n",
       "4                   GENPACT India Private Limited    13d ago    4.0\n",
       "5  Optum Global Solutions (India) Private Limited    17d ago    4.1\n",
       "6  Optum Global Solutions (India) Private Limited    18d ago    4.1\n",
       "7        Ericsson India Global Services Pvt. Ltd.    30d ago    4.3\n",
       "8                      SOPRA STERIA INDIA LIMITED    19d ago    4.2\n",
       "9                EXL Services.com ( I ) Pvt. Ltd.    19d ago    3.9"
      ]
     },
     "execution_count": 364,
     "metadata": {},
     "output_type": "execute_result"
    }
   ],
   "source": [
    "DF=pd.DataFrame({'Company':company_name,'job posted':job_posted,'Rating':rating})\n",
    "DF"
   ]
  },
  {
   "cell_type": "markdown",
   "id": "3c4c3df7",
   "metadata": {},
   "source": [
    "Q10: Write a python program to scrape the salary data for Data Scientist designation.\n",
    "You have to scrape Company name, Number of salaries, Average salary, Minsalary, Max Salary. "
   ]
  },
  {
   "cell_type": "code",
   "execution_count": 393,
   "id": "46c510d3",
   "metadata": {},
   "outputs": [],
   "source": [
    "driver=webdriver.Chrome(r'C:\\Users\\ashud\\Desktop\\FLIP ROBO INTERNSHIP\\chromedriver_win32\\chromedriver.exe')"
   ]
  },
  {
   "cell_type": "code",
   "execution_count": 373,
   "id": "50e02c7e",
   "metadata": {},
   "outputs": [],
   "source": [
    "driver.get('https://www.ambitionbox.com/')"
   ]
  },
  {
   "cell_type": "code",
   "execution_count": 374,
   "id": "6176cb19",
   "metadata": {},
   "outputs": [],
   "source": [
    "salary_page=driver.find_element(By.XPATH,'/html/body/div[1]/nav[2]/div/ul/li[3]/a')\n",
    "salary_page.click()"
   ]
  },
  {
   "cell_type": "code",
   "execution_count": 375,
   "id": "4ce6a79e",
   "metadata": {},
   "outputs": [],
   "source": [
    "browse_salary=driver.find_element(By.XPATH,'/html/body/div[1]/nav[2]/div/ul/li[3]/div/ul/li[1]/div/div[2]/a')\n",
    "browse_salary.click()"
   ]
  },
  {
   "cell_type": "code",
   "execution_count": 380,
   "id": "c270e57e",
   "metadata": {},
   "outputs": [],
   "source": [
    "designation=driver.find_element(By.XPATH,'/html/body/div/div/div/div[2]/div/div/div/div[1]/span/input')\n",
    "designation.send_keys('Data Scientist')"
   ]
  },
  {
   "cell_type": "code",
   "execution_count": 379,
   "id": "868f2730",
   "metadata": {},
   "outputs": [],
   "source": [
    "search=driver.find_element(By.XPATH,'/html/body/div/div/div/div[2]/div/div/div/button/span')\n",
    "search.click()"
   ]
  },
  {
   "cell_type": "code",
   "execution_count": 381,
   "id": "913fd080",
   "metadata": {},
   "outputs": [],
   "source": [
    "data_scientist=driver.find_element(By.XPATH,'/html/body/section[1]/div/section/div/div/div/div/div/div/div[5]/div[2]/div/div/div[1]/div[8]/div[1]/div[1]/div/a')\n",
    "data_scientist.click()"
   ]
  },
  {
   "cell_type": "code",
   "execution_count": 394,
   "id": "e76d6e55",
   "metadata": {},
   "outputs": [],
   "source": [
    "driver.get('https://www.ambitionbox.com/profile/data-scientist-salary/financial-services-industry')"
   ]
  },
  {
   "cell_type": "code",
   "execution_count": 401,
   "id": "f7273a51",
   "metadata": {},
   "outputs": [],
   "source": [
    "company_name=[]\n",
    "\n",
    "company_tag=driver.find_elements(By.XPATH,'//div[@class=\"name\"]')\n",
    "for i in company_tag[0:10]:\n",
    "    A=i.text.split('\\n')[0]\n",
    "    company_name.append(A)"
   ]
  },
  {
   "cell_type": "code",
   "execution_count": 403,
   "id": "e29edfff",
   "metadata": {},
   "outputs": [
    {
     "data": {
      "text/plain": [
       "10"
      ]
     },
     "execution_count": 403,
     "metadata": {},
     "output_type": "execute_result"
    }
   ],
   "source": [
    "len(company_name)"
   ]
  },
  {
   "cell_type": "code",
   "execution_count": 410,
   "id": "b7fccbad",
   "metadata": {},
   "outputs": [],
   "source": [
    "Number_of_salaries=[]\n",
    "\n",
    "NoS=driver.find_elements(By.XPATH,'//span[@class=\"salary-datapoints\"]')\n",
    "for i in NoS[0:10]:\n",
    "    A=i.text[1:-1]\n",
    "    Number_of_salaries.append(A)"
   ]
  },
  {
   "cell_type": "code",
   "execution_count": 406,
   "id": "0834615f",
   "metadata": {},
   "outputs": [
    {
     "data": {
      "text/plain": [
       "10"
      ]
     },
     "execution_count": 406,
     "metadata": {},
     "output_type": "execute_result"
    }
   ],
   "source": [
    "len(Number_of_salaries)"
   ]
  },
  {
   "cell_type": "code",
   "execution_count": 412,
   "id": "e45bd8bd",
   "metadata": {},
   "outputs": [],
   "source": [
    "Average_salary=[]\n",
    "\n",
    "AS=driver.find_elements(By.XPATH,'//div[@class=\"results-body\"]//p')\n",
    "for i in AS[0:10]:\n",
    "    A=i.text\n",
    "    Average_salary.append(A)"
   ]
  },
  {
   "cell_type": "code",
   "execution_count": 414,
   "id": "9482ee4a",
   "metadata": {},
   "outputs": [
    {
     "data": {
      "text/plain": [
       "10"
      ]
     },
     "execution_count": 414,
     "metadata": {},
     "output_type": "execute_result"
    }
   ],
   "source": [
    "len(Average_salary)"
   ]
  },
  {
   "cell_type": "code",
   "execution_count": 415,
   "id": "22413478",
   "metadata": {},
   "outputs": [],
   "source": [
    "Minsalary=[]\n",
    "\n",
    "MS=driver.find_elements(By.XPATH,'//div[@class=\"results-body\"]//div[@class=\"salary-values\"]//div[1]')\n",
    "for i in MS[0:10]:\n",
    "    A=i.text\n",
    "    Minsalary.append(A)"
   ]
  },
  {
   "cell_type": "code",
   "execution_count": 416,
   "id": "8dcd2667",
   "metadata": {},
   "outputs": [
    {
     "data": {
      "text/plain": [
       "['₹ 5.0L',\n",
       " '₹ 4.3L',\n",
       " '₹ 12.0L',\n",
       " '₹ 16.5L',\n",
       " '₹ 10.0L',\n",
       " '₹ 8.0L',\n",
       " '₹ 8.0L',\n",
       " '₹ 7.4L',\n",
       " '₹ 12.0L',\n",
       " '₹ 6.0L']"
      ]
     },
     "execution_count": 416,
     "metadata": {},
     "output_type": "execute_result"
    }
   ],
   "source": [
    "Minsalary"
   ]
  },
  {
   "cell_type": "code",
   "execution_count": 417,
   "id": "8b75d1be",
   "metadata": {},
   "outputs": [],
   "source": [
    "Max_Salary=[]\n",
    "\n",
    "Max=driver.find_elements(By.XPATH,'//div[@class=\"results-body\"]//div[@class=\"salary-values\"]//div[2]')\n",
    "for i in Max[0:10]:\n",
    "    A=i.text\n",
    "    Max_Salary.append(A)"
   ]
  },
  {
   "cell_type": "code",
   "execution_count": 418,
   "id": "2512a0f1",
   "metadata": {},
   "outputs": [
    {
     "data": {
      "text/plain": [
       "['₹ 25.0L',\n",
       " '₹ 20.1L',\n",
       " '₹ 31.3L',\n",
       " '₹ 45.0L',\n",
       " '₹ 25.0L',\n",
       " '₹ 22.5L',\n",
       " '₹ 20.0L',\n",
       " '₹ 26.0L',\n",
       " '₹ 26.0L',\n",
       " '₹ 35.0L']"
      ]
     },
     "execution_count": 418,
     "metadata": {},
     "output_type": "execute_result"
    }
   ],
   "source": [
    "Max_Salary"
   ]
  },
  {
   "cell_type": "code",
   "execution_count": 419,
   "id": "81ce4a76",
   "metadata": {},
   "outputs": [
    {
     "data": {
      "text/html": [
       "<div>\n",
       "<style scoped>\n",
       "    .dataframe tbody tr th:only-of-type {\n",
       "        vertical-align: middle;\n",
       "    }\n",
       "\n",
       "    .dataframe tbody tr th {\n",
       "        vertical-align: top;\n",
       "    }\n",
       "\n",
       "    .dataframe thead th {\n",
       "        text-align: right;\n",
       "    }\n",
       "</style>\n",
       "<table border=\"1\" class=\"dataframe\">\n",
       "  <thead>\n",
       "    <tr style=\"text-align: right;\">\n",
       "      <th></th>\n",
       "      <th>Company</th>\n",
       "      <th>Number of salaries</th>\n",
       "      <th>Average Salary</th>\n",
       "      <th>Min Salary</th>\n",
       "      <th>Max Salary</th>\n",
       "    </tr>\n",
       "  </thead>\n",
       "  <tbody>\n",
       "    <tr>\n",
       "      <th>0</th>\n",
       "      <td>IBM</td>\n",
       "      <td>525 Salaries</td>\n",
       "      <td>₹ 12.7L</td>\n",
       "      <td>₹ 5.0L</td>\n",
       "      <td>₹ 25.0L</td>\n",
       "    </tr>\n",
       "    <tr>\n",
       "      <th>1</th>\n",
       "      <td>HCL Technologies</td>\n",
       "      <td>199 Salaries</td>\n",
       "      <td>₹ 9.5L</td>\n",
       "      <td>₹ 4.3L</td>\n",
       "      <td>₹ 20.1L</td>\n",
       "    </tr>\n",
       "    <tr>\n",
       "      <th>2</th>\n",
       "      <td>JP Morgan Chase</td>\n",
       "      <td>76 Salaries</td>\n",
       "      <td>₹ 20.8L</td>\n",
       "      <td>₹ 12.0L</td>\n",
       "      <td>₹ 31.3L</td>\n",
       "    </tr>\n",
       "    <tr>\n",
       "      <th>3</th>\n",
       "      <td>PayPal</td>\n",
       "      <td>73 Salaries</td>\n",
       "      <td>₹ 29.8L</td>\n",
       "      <td>₹ 16.5L</td>\n",
       "      <td>₹ 45.0L</td>\n",
       "    </tr>\n",
       "    <tr>\n",
       "      <th>4</th>\n",
       "      <td>American Express</td>\n",
       "      <td>59 Salaries</td>\n",
       "      <td>₹ 16.8L</td>\n",
       "      <td>₹ 10.0L</td>\n",
       "      <td>₹ 25.0L</td>\n",
       "    </tr>\n",
       "    <tr>\n",
       "      <th>5</th>\n",
       "      <td>HSBC</td>\n",
       "      <td>49 Salaries</td>\n",
       "      <td>₹ 13.1L</td>\n",
       "      <td>₹ 8.0L</td>\n",
       "      <td>₹ 22.5L</td>\n",
       "    </tr>\n",
       "    <tr>\n",
       "      <th>6</th>\n",
       "      <td>HDFC Bank</td>\n",
       "      <td>46 Salaries</td>\n",
       "      <td>₹ 14.7L</td>\n",
       "      <td>₹ 8.0L</td>\n",
       "      <td>₹ 20.0L</td>\n",
       "    </tr>\n",
       "    <tr>\n",
       "      <th>7</th>\n",
       "      <td>Societe Generale</td>\n",
       "      <td>42 Salaries</td>\n",
       "      <td>₹ 17.6L</td>\n",
       "      <td>₹ 7.4L</td>\n",
       "      <td>₹ 26.0L</td>\n",
       "    </tr>\n",
       "    <tr>\n",
       "      <th>8</th>\n",
       "      <td>Barclays</td>\n",
       "      <td>39 Salaries</td>\n",
       "      <td>₹ 18.8L</td>\n",
       "      <td>₹ 12.0L</td>\n",
       "      <td>₹ 26.0L</td>\n",
       "    </tr>\n",
       "    <tr>\n",
       "      <th>9</th>\n",
       "      <td>Xyz Company</td>\n",
       "      <td>38 Salaries</td>\n",
       "      <td>₹ 17.8L</td>\n",
       "      <td>₹ 6.0L</td>\n",
       "      <td>₹ 35.0L</td>\n",
       "    </tr>\n",
       "  </tbody>\n",
       "</table>\n",
       "</div>"
      ],
      "text/plain": [
       "            Company Number of salaries Average Salary Min Salary Max Salary\n",
       "0               IBM       525 Salaries        ₹ 12.7L     ₹ 5.0L    ₹ 25.0L\n",
       "1  HCL Technologies       199 Salaries         ₹ 9.5L     ₹ 4.3L    ₹ 20.1L\n",
       "2   JP Morgan Chase        76 Salaries        ₹ 20.8L    ₹ 12.0L    ₹ 31.3L\n",
       "3            PayPal        73 Salaries        ₹ 29.8L    ₹ 16.5L    ₹ 45.0L\n",
       "4  American Express        59 Salaries        ₹ 16.8L    ₹ 10.0L    ₹ 25.0L\n",
       "5              HSBC        49 Salaries        ₹ 13.1L     ₹ 8.0L    ₹ 22.5L\n",
       "6         HDFC Bank        46 Salaries        ₹ 14.7L     ₹ 8.0L    ₹ 20.0L\n",
       "7  Societe Generale        42 Salaries        ₹ 17.6L     ₹ 7.4L    ₹ 26.0L\n",
       "8          Barclays        39 Salaries        ₹ 18.8L    ₹ 12.0L    ₹ 26.0L\n",
       "9       Xyz Company        38 Salaries        ₹ 17.8L     ₹ 6.0L    ₹ 35.0L"
      ]
     },
     "execution_count": 419,
     "metadata": {},
     "output_type": "execute_result"
    }
   ],
   "source": [
    "DF=pd.DataFrame({'Company':company_name,'Number of salaries':Number_of_salaries,'Average Salary':Average_salary,'Min Salary':Minsalary,'Max Salary':Max_Salary})\n",
    "DF"
   ]
  },
  {
   "cell_type": "code",
   "execution_count": null,
   "id": "b1358c9b",
   "metadata": {},
   "outputs": [],
   "source": []
  }
 ],
 "metadata": {
  "kernelspec": {
   "display_name": "Python 3 (ipykernel)",
   "language": "python",
   "name": "python3"
  },
  "language_info": {
   "codemirror_mode": {
    "name": "ipython",
    "version": 3
   },
   "file_extension": ".py",
   "mimetype": "text/x-python",
   "name": "python",
   "nbconvert_exporter": "python",
   "pygments_lexer": "ipython3",
   "version": "3.9.7"
  }
 },
 "nbformat": 4,
 "nbformat_minor": 5
}
